{
 "cells": [
  {
   "cell_type": "code",
   "execution_count": null,
   "metadata": {
    "collapsed": true
   },
   "outputs": [],
   "source": [
    "# Задача для заряженной пластины"
   ]
  },
  {
   "cell_type": "code",
   "execution_count": 1,
   "metadata": {
    "collapsed": false
   },
   "outputs": [],
   "source": [
    "from dolfin import *\n",
    "from mshr import *\n",
    "\n",
    "nx, ny = 50, 50\n",
    "plx, prx = 0.2, 0.8\n",
    "u0, u1 = 0.0, 0.05\n",
    "\n",
    "mesh = UnitSquareMesh(nx, ny)\n",
    "\n",
    "p, q = Point(0.2, 1.), Point(0.8, 1.)\n",
    "tol1 = 0.15\n",
    "tol2 = 0.1\n",
    "tol3 = 0.07\n",
    "\n",
    "class Breaks(SubDomain):\n",
    "    def inside(self, x, on_boundary):\n",
    "        return near(x[0], p.x(), tol1) and near(x[1], p.y(), tol2) or near(x[0], q.x(), tol1) and near(x[1], q.y(), tol2) or near(x[1], 1., tol3)\n",
    "\n",
    "breaks = Breaks()\n",
    "\n",
    "# Number of refinements\n",
    "nor = 2\n",
    "\n",
    "for i in range(nor):\n",
    "    edge_markers = EdgeFunction(\"bool\", mesh)\n",
    "    breaks.mark(edge_markers, True)\n",
    "\n",
    "    adapt(mesh, edge_markers)\n",
    "    mesh = mesh.child()\n",
    "\n",
    "#---------------refinement-end\n",
    "\n",
    "def plate_boundary(x, on_boundary):\n",
    "    return (plx < x[0] < prx) and near(x[1], 1.0)\n",
    "\n",
    "def empty_boundary(x, on_boundary):\n",
    "    return on_boundary and not plate_boundary(x, on_boundary)\n",
    "\n",
    "V = FunctionSpace(mesh, \"Lagrange\", 1)\n",
    "u = TrialFunction(V)\n",
    "v = TestFunction(V)\n",
    "\n",
    "bcs = [DirichletBC(V, Constant(u1), plate_boundary),\n",
    "       DirichletBC(V, Constant(u0), empty_boundary)]\n",
    "\n",
    "a = inner(grad(u), grad(v)) * dx\n",
    "L = Constant(0.0) * v * dx\n",
    "\n",
    "u = Function(V)\n",
    "\n",
    "problem = LinearVariationalProblem(a, L, u, bcs)\n",
    "solver = LinearVariationalSolver(problem)\n",
    "solver.solve()\n",
    "\n",
    "plot(u)\n",
    "\n",
    "#plot(mesh)\n",
    "\n",
    "interactive()"
   ]
  },
  {
   "cell_type": "code",
   "execution_count": 5,
   "metadata": {
    "collapsed": false
   },
   "outputs": [
    {
     "name": "stdout",
     "output_type": "stream",
     "text": [
      "0.000185682216038\n",
      "Calling FFC just-in-time (JIT) compiler, this may take some time.\n",
      "0.000162288933834\n"
     ]
    },
    {
     "data": {
      "text/plain": [
       "<dolfin.cpp.io.VTKPlotter; proxy of <Swig Object of type 'std::shared_ptr< dolfin::VTKPlotter > *' at 0xa5cb6398> >"
      ]
     },
     "execution_count": 5,
     "metadata": {},
     "output_type": "execute_result"
    }
   ],
   "source": [
    "import numpy as np\n",
    "\n",
    "Ve = V #FunctionSpace(mesh, 'Lagrange', 1)\n",
    "u_e = Function(Ve)\n",
    "summand = Expression('4/m*v*sin(m*(l+r)/2)*sin(m*(r-l)/2)*sin(m*x[0])*sinh(m*x[1])/sinh(m*b)', b=1.0, m=pi, l=plx, r=prx, v=u1)\n",
    "\n",
    "for i in xrange(200):\n",
    "    summand.m = pi * (i + 1)\n",
    "    u_e.vector()[:] += interpolate(summand, Ve).vector()\n",
    "    \n",
    "mf = MeshFunction(\"size_t\", mesh, mesh.topology().dim() - 1)\n",
    "mf.set_all(1)\n",
    "\n",
    "breaks.mark(mf, 0)\n",
    "\n",
    "#v = interpolate(u, Ve)\n",
    "\n",
    "print sqrt(assemble((u - u_e) ** 2 * dx)) #identical to errornorm\n",
    "\n",
    "dX = dx(subdomain_data=mf)\n",
    "error = assemble((u - u_e) ** 2 * dX(0))\n",
    "print sqrt(error)\n",
    "\n",
    "plot(abs(u - u_e), interactive=True)"
   ]
  },
  {
   "cell_type": "code",
   "execution_count": 5,
   "metadata": {
    "collapsed": true
   },
   "outputs": [],
   "source": [
    "import matplotlib.pyplot as plt\n",
    "import matplotlib.tri as tri\n",
    "\n",
    "triang = tri.Triangulation(*mesh.coordinates().reshape((-1, 2)).T,\n",
    "                           triangles=mesh.cells())\n",
    "Z = u.compute_vertex_values(mesh)\n",
    "\n",
    "plt.figure()\n",
    "plt.tricontour(triang, Z, )\n",
    "plt.colorbar()\n",
    "plt.show()"
   ]
  },
  {
   "cell_type": "markdown",
   "metadata": {},
   "source": [
    "Вычисление невязки для разных шагов сетки и оценка скорости сходимости численного метода"
   ]
  },
  {
   "cell_type": "code",
   "execution_count": 1,
   "metadata": {
    "collapsed": false
   },
   "outputs": [],
   "source": [
    "from dolfin import *\n",
    "from math import log as ln\n",
    "\n",
    "plx, prx = 0.2, 0.8\n",
    "u0, u1 = 0.0, 0.05\n",
    "p, q = Point(0.2, 1.), Point(0.8, 1.)\n",
    "tol1 = 0.1\n",
    "tol2 = 0.1\n",
    "tol3 = 0.05\n",
    "\n",
    "class Breaks(SubDomain):\n",
    "    def inside(self, x, on_boundary):\n",
    "        return near(x[0], p.x(), tol1) and near(x[1], p.y(), tol2) or near(x[0], q.x(), tol1) and near(x[1], q.y(), tol2) or near(x[1], 1., tol3)\n",
    "\n",
    "def plate_boundary(x, on_boundary):\n",
    "    return (plx < x[0] < prx) and near(x[1], 1.0)\n",
    "\n",
    "def empty_boundary(x, on_boundary):\n",
    "    return on_boundary and not plate_boundary(x, on_boundary)\n",
    "\n",
    "breaks = Breaks()\n",
    "\n",
    "def get_error(n):\n",
    "    nx, ny = n, n\n",
    "    mesh = UnitSquareMesh(nx, ny)\n",
    "\n",
    "    nor = 0\n",
    "    for i in range(nor):\n",
    "        edge_markers = EdgeFunction(\"bool\", mesh)\n",
    "        breaks.mark(edge_markers, True)\n",
    "        adapt(mesh, edge_markers)\n",
    "        mesh = mesh.child()\n",
    "\n",
    "    V = FunctionSpace(mesh, \"Lagrange\", 1)\n",
    "    u = TrialFunction(V)\n",
    "    v = TestFunction(V)\n",
    "\n",
    "    bcs = [DirichletBC(V, Constant(u0), empty_boundary),\n",
    "           DirichletBC(V, Constant(u1), plate_boundary)]\n",
    "\n",
    "    a = inner(grad(u), grad(v)) * dx\n",
    "    L = Constant(0.0) * v * dx\n",
    "\n",
    "    u = Function(V)\n",
    "\n",
    "    problem = LinearVariationalProblem(a, L, u, bcs)\n",
    "    solver = LinearVariationalSolver(problem)\n",
    "    solver.solve()\n",
    "\n",
    "    W = FunctionSpace(mesh, 'Lagrange', 3)\n",
    "    u_e = Function(W)\n",
    "\n",
    "    summand = Expression('4/m*v*sin(m*(l+r)/2)*sin(m*(r-l)/2)*sin(m*x[0])*sinh(m*x[1])/sinh(m*b)', b=1.0, m=pi, l=plx, r=prx, v=u1)\n",
    "    \n",
    "    for i in xrange(200):\n",
    "        summand.m = pi * (i + 1)\n",
    "        u_e.vector()[:] += interpolate(summand, W).vector()\n",
    "    \n",
    "    mf = MeshFunction(\"size_t\", mesh, mesh.topology().dim() - 1)\n",
    "    mf.set_all(1)\n",
    "\n",
    "    breaks.mark(mf, 0)\n",
    "\n",
    "    u = interpolate(u, W)\n",
    "\n",
    "    print n\n",
    "    print sqrt(assemble((u - u_e) ** 2 * dx))\n",
    "    dX = dx(subdomain_data=mf)\n",
    "    error = assemble((u - u_e) ** 2 * dX(1))\n",
    "    error_norm = sqrt(error)\n",
    "    print error_norm\n",
    "    \n",
    "    return error_norm"
   ]
  },
  {
   "cell_type": "code",
   "execution_count": 33,
   "metadata": {
    "collapsed": false
   },
   "outputs": [
    {
     "name": "stdout",
     "output_type": "stream",
     "text": [
      "4\n",
      "0.00445580550155\n",
      "0.00445580550155\n",
      "8\n",
      "0.00132337526268\n",
      "0.00132337526268\n",
      "16\n",
      "0.00122776472871\n",
      "0.000644668414516\n",
      "32\n",
      "0.000316514007203\n",
      "9.0532360111e-05\n",
      "64\n",
      "0.000337147355982\n",
      "0.000133435165435\n",
      "[1.7514640423908698, 1.037593011612291, 2.8320518304924356, -0.5596334537590012]\n"
     ]
    }
   ],
   "source": [
    "N = [4, 8, 16, 32, 64]#, 128]#, 256]\n",
    "h = [1. / n for n in N]\n",
    "e = [get_error(n) for n in N]\n",
    "r = [ln(e[i + 1] / e[i]) / ln(h[i + 1] / h[i])  for i in xrange(len(e) - 1)]\n",
    "print r"
   ]
  },
  {
   "cell_type": "code",
   "execution_count": 7,
   "metadata": {
    "collapsed": false
   },
   "outputs": [
    {
     "name": "stdout",
     "output_type": "stream",
     "text": [
      "n=  4 e=0.00187144 r=4.577105\n",
      "n=  8 e=0.00007840 r=-0.116347\n",
      "n= 16 e=0.00008499 r=1.067510\n"
     ]
    }
   ],
   "source": [
    "print '\\n'.join(['n={:>3} e={:.8f} r={:f}'.format(N[i], e[i], r[i]) for i in xrange(len(r))])"
   ]
  },
  {
   "cell_type": "code",
   "execution_count": null,
   "metadata": {
    "collapsed": false
   },
   "outputs": [],
   "source": [
    "N = [8, 16, 32, 64]\n",
    "h = [1. / n for n in N]\n",
    "e = [get_error(n) for n in N]\n",
    "r = [ln(e[i + 1] / e[i]) / ln(h[i + 1] / h[i])  for i in xrange(len(e) - 1)]\n",
    "print r"
   ]
  },
  {
   "cell_type": "markdown",
   "metadata": {},
   "source": [
    "# Эксперименты с сетками"
   ]
  },
  {
   "cell_type": "code",
   "execution_count": null,
   "metadata": {
    "collapsed": false
   },
   "outputs": [],
   "source": [
    "import numpy\n",
    "import dolfin as df\n",
    "\n",
    "def create_mesh(length, height, nx, ny, show=False):\n",
    "    \"\"\"\n",
    "    Make a square mesh manually\n",
    "\n",
    "    Should give exactly the same results as using the built in dolfin.RectangleMesh() class\n",
    "    \"\"\"\n",
    "    # The number of mesh entities\n",
    "    nvert = nx*ny\n",
    "    ncell = 2*(nx-1)*(ny-1)\n",
    "\n",
    "    # Positions of the vertices\n",
    "    xpos = numpy.linspace(0, length, nx)\n",
    "    ypos = numpy.linspace(0, height, ny)\n",
    "\n",
    "    # Create the mesh and open for editing\n",
    "    mesh = df.Mesh()\n",
    "    editor = df.MeshEditor()\n",
    "    editor.open(mesh, 2, 2)\n",
    "\n",
    "    # Add the vertices (nodes)\n",
    "    editor.init_vertices(nvert)\n",
    "    i_vert = 0\n",
    "    for x in xpos:\n",
    "        for y in ypos:\n",
    "            editor.add_vertex(i_vert, x, y)\n",
    "            i_vert += 1\n",
    "\n",
    "    # Add the cells (triangular elements)\n",
    "    # Loop over the vertices and build two cells for each square\n",
    "    # where the selected vertex is in the lower left corner\n",
    "    editor.init_cells(ncell)\n",
    "    i_cell = 0\n",
    "    for ix in xrange(nx-1):\n",
    "        for iy in xrange(ny-1):\n",
    "            # Upper left triangle in this square\n",
    "            i_vert0 = ix*ny + iy\n",
    "            i_vert1 = ix*ny + iy+1\n",
    "            i_vert2 = (ix+1)*ny + iy + 1\n",
    "            editor.add_cell(i_cell, i_vert0, i_vert1, i_vert2)\n",
    "            i_cell += 1\n",
    "\n",
    "            # Lower right triangle in this square\n",
    "            i_vert0 = ix*ny + iy\n",
    "            i_vert1 = (ix+1)*ny + iy+1\n",
    "            i_vert2 = (ix+1)*ny + iy\n",
    "            editor.add_cell(i_cell, i_vert0, i_vert1, i_vert2)\n",
    "            i_cell += 1\n",
    "\n",
    "    # Close the mesh for editing\n",
    "    editor.close()\n",
    "    print 'Created mesh with %d vertices and %d cells' % (nvert, ncell)\n",
    "\n",
    "    if show:\n",
    "        df.plot(mesh)\n",
    "        df.interactive()\n",
    "\n",
    "    return mesh\n",
    "\n",
    "mesh = create_mesh(5, 3, 10, 10)\n",
    "\n",
    "df.plot(mesh)\n",
    "df.interactive()"
   ]
  },
  {
   "cell_type": "code",
   "execution_count": 1,
   "metadata": {
    "collapsed": false
   },
   "outputs": [
    {
     "data": {
      "text/plain": [
       "<dolfin.cpp.io.VTKPlotter; proxy of <Swig Object of type 'std::shared_ptr< dolfin::VTKPlotter > *' at 0xa70bf638> >"
      ]
     },
     "execution_count": 1,
     "metadata": {},
     "output_type": "execute_result"
    }
   ],
   "source": [
    "from dolfin import *\n",
    "\n",
    "mesh = UnitSquareMesh(20, 20)\n",
    "\n",
    "# Break point\n",
    "p, q = Point(0.2, 1.), Point(0.8, 1.)\n",
    "tol = 0.05\n",
    "\n",
    "# Selecting edges to refine\n",
    "class Border(SubDomain):\n",
    "    def inside(self, x, on_boundary):\n",
    "        return (near(x[0], p.x(), tol) and near(x[1], p.y(), tol) or\n",
    "    near(x[0], q.x(), tol) and near(x[1], q.y(), tol)) and on_boundary\n",
    "\n",
    "Border = Border()\n",
    "\n",
    "# Number of refinements\n",
    "nor = 5\n",
    "\n",
    "for i in range(nor):\n",
    "    edge_markers = EdgeFunction(\"bool\", mesh)\n",
    "    Border.mark(edge_markers, True)\n",
    "\n",
    "    adapt(mesh, edge_markers)\n",
    "    mesh = mesh.child()\n",
    "\n",
    "plot(mesh, interactive=True)\n"
   ]
  },
  {
   "cell_type": "code",
   "execution_count": 11,
   "metadata": {
    "collapsed": false
   },
   "outputs": [
    {
     "data": {
      "text/plain": [
       "<dolfin.cpp.io.VTKPlotter; proxy of <Swig Object of type 'std::shared_ptr< dolfin::VTKPlotter > *' at 0x99886788> >"
      ]
     },
     "execution_count": 11,
     "metadata": {},
     "output_type": "execute_result"
    }
   ],
   "source": [
    "from dolfin import *\n",
    "\n",
    "mesh = UnitCubeMesh(5, 2, 3)\n",
    "\n",
    "plot(mesh, interactive=True)"
   ]
  },
  {
   "cell_type": "code",
   "execution_count": 13,
   "metadata": {
    "collapsed": false
   },
   "outputs": [],
   "source": [
    "from dolfin import *\n",
    "from mshr import *\n",
    "\n",
    "mesh = generate_mesh(Rectangle(Point(0, 0), Point(1, 1)), 5)\n",
    "\n",
    "plot(mesh)\n",
    "\n",
    "interactive()"
   ]
  },
  {
   "cell_type": "code",
   "execution_count": 13,
   "metadata": {
    "collapsed": false
   },
   "outputs": [],
   "source": [
    "import numpy\n",
    "from mshr import *\n",
    "\n",
    "Theta = 2 * pi\n",
    "a, b = 3., 5.0\n",
    "nr = 10  # divisions in r direction\n",
    "nt = 20  # divisions in theta direction\n",
    "mesh = UnitSquareMesh(10, 10, 'crossed')\n",
    "#mesh = generate_mesh(Rectangle(Point(0, 0), Point(1, 1)), 10)\n",
    "#mesh = RectangleMesh(nr, nt, digonal='crossed')\n",
    "\n",
    "# First make a denser mesh towards r=a\n",
    "x = mesh.coordinates()[:,0]\n",
    "y = mesh.coordinates()[:,1]\n",
    "s = 1\n",
    "\n",
    "def denser(x, y):\n",
    "    return [a + (b-a)*((x-a)/(b-a))**s, y]\n",
    "\n",
    "x_bar, y_bar = denser(x, y)\n",
    "xy_bar_coor = numpy.array([x_bar, y_bar]).transpose()\n",
    "mesh.coordinates()[:] = xy_bar_coor\n",
    "plot(mesh, title='stretched mesh')\n",
    "\n",
    "def cylinder(r, s):\n",
    "    return [r*numpy.cos(Theta*s), r*numpy.sin(Theta*s)]\n",
    "\n",
    "x_hat, y_hat = cylinder(x, y)\n",
    "xy_hat_coor = numpy.array([x_hat, y_hat]).transpose()\n",
    "mesh.coordinates()[:] = xy_hat_coor\n",
    "plot(mesh, title='hollow cylinder')\n",
    "interactive()"
   ]
  },
  {
   "cell_type": "markdown",
   "metadata": {},
   "source": [
    "# Задача с непрерывными граничными условиями"
   ]
  },
  {
   "cell_type": "code",
   "execution_count": 34,
   "metadata": {
    "collapsed": false
   },
   "outputs": [
    {
     "name": "stdout",
     "output_type": "stream",
     "text": [
      "Calling FFC just-in-time (JIT) compiler, this may take some time.\n",
      "Error norm: 0.000468485579284\n"
     ]
    }
   ],
   "source": [
    "from dolfin import *\n",
    "\n",
    "nx, ny = 15, 15\n",
    "\n",
    "mesh = UnitSquareMesh(nx, ny)\n",
    "\n",
    "def left_boundary(x, on_boundary):\n",
    "    return near(x[0], 0.)\n",
    "\n",
    "def right_boundary(x, on_boundary):\n",
    "    return near(x[0], 1.)\n",
    "\n",
    "def bottom_boundary(x, on_boundary):\n",
    "    return near(x[1], 0.)\n",
    "\n",
    "def top_boundary(x, on_boundary):\n",
    "    return near(x[1], 1.)\n",
    "\n",
    "\n",
    "V = FunctionSpace(mesh, \"Lagrange\", 1)\n",
    "u = TrialFunction(V)\n",
    "v = TestFunction(V)\n",
    "\n",
    "bcs = [DirichletBC(V, Expression('1-x[1]*x[1]'), left_boundary),\n",
    "       DirichletBC(V, Expression('2-x[1]*x[1]'), right_boundary),\n",
    "       DirichletBC(V, Expression('1+x[0]*x[0]'), bottom_boundary),\n",
    "       DirichletBC(V, Expression('x[0]*x[0]'), top_boundary)]\n",
    "\n",
    "a = inner(grad(u), grad(v)) * dx\n",
    "L = Constant(0.0) * v * dx\n",
    "\n",
    "u = Function(V)\n",
    "\n",
    "problem = LinearVariationalProblem(a, L, u, bcs)\n",
    "solver = LinearVariationalSolver(problem)\n",
    "solver.solve()\n",
    "\n",
    "plot(u)\n",
    "\n",
    "E = -project(grad(u), VectorFunctionSpace(mesh, \"Lagrange\", 1))\n",
    "\n",
    "plot(E)\n",
    "\n",
    "u_e = Expression('1+x[0]*x[0]-x[1]*x[1]')\n",
    "\n",
    "plot(u - u_e)\n",
    "\n",
    "Ve = FunctionSpace(mesh, 'Lagrange', 5)\n",
    "print 'Error norm:', errornorm(u_e, u, norm_type='l2')\n",
    "\n",
    "interactive()"
   ]
  },
  {
   "cell_type": "code",
   "execution_count": 1,
   "metadata": {
    "collapsed": false
   },
   "outputs": [],
   "source": [
    "from dolfin import *\n",
    "from mshr import *\n",
    "\n",
    "r, R = 0.1, 3.\n",
    "count = 30\n",
    "\n",
    "mesh = generate_mesh(Circle(Point(0., 0.), R, 30) - Circle(Point(0., 0.), r, 20), count)\n",
    "\n",
    "plot(mesh)\n",
    "\n",
    "#'''\n",
    "def outer_boundary(x, on_boundary):\n",
    "    return on_boundary and (x[0]*x[0] + x[1]*x[1] > r + 0.1)\n",
    "\n",
    "def inner_boundary(x, on_boundary):\n",
    "    return on_boundary and (x[0]*x[0] + x[1]*x[1] < r + 0.1)\n",
    "#'''\n",
    "\n",
    "V = FunctionSpace(mesh, \"Lagrange\", 1)\n",
    "u = TrialFunction(V)\n",
    "v = TestFunction(V)\n",
    "\n",
    "#'''\n",
    "bcs = [DirichletBC(V, Constant(1.), outer_boundary),\n",
    "       DirichletBC(V, Constant(10.), inner_boundary)]\n",
    "#'''\n",
    "\n",
    "#bcs = DirichletBC(V, Expression('1/sqrt(x[0]*x[0]+x[1]*x[1])'), lambda x, on_boundary: on_boundary)\n",
    "\n",
    "a = inner(grad(u), grad(v)) * dx\n",
    "L = Constant(0.0) * v * dx\n",
    "\n",
    "u = Function(V)\n",
    "\n",
    "problem = LinearVariationalProblem(a, L, u, bcs)\n",
    "solver = LinearVariationalSolver(problem)\n",
    "solver.solve()\n",
    "\n",
    "plot(u)\n",
    "\n",
    "E = -project(grad(u), VectorFunctionSpace(mesh, \"Lagrange\", 1))\n",
    "\n",
    "plot(E)\n",
    "\n",
    "interactive()"
   ]
  },
  {
   "cell_type": "code",
   "execution_count": 2,
   "metadata": {
    "collapsed": false
   },
   "outputs": [],
   "source": [
    "import scitools.easyviz as ev\n",
    "import scitools.BoxField\n",
    "\n",
    "u_box = scitools.BoxField.dolfin_function2BoxField(u, mesh, (20, 88))\n",
    "ev.contour(u_box.grid.coorv[0], u_box.grid.coorv[1], u_box.values, 5)\n",
    "ev.savefig('hey.png')"
   ]
  },
  {
   "cell_type": "code",
   "execution_count": 14,
   "metadata": {
    "collapsed": true
   },
   "outputs": [],
   "source": [
    "from dolfin import *\n",
    "from math import log as ln\n",
    "\n",
    "def plate_boundary(x, on_boundary):\n",
    "    return (plx < x[0] < prx) and near(x[1], 1.0)\n",
    "\n",
    "def empty_boundary(x, on_boundary):\n",
    "    return on_boundary and not plate_boundary(x, on_boundary)\n",
    "\n",
    "def get_error(n):\n",
    "    nx, ny = n, n\n",
    "    \n",
    "    mesh = UnitSquareMesh(nx, ny)\n",
    "    \n",
    "    V = FunctionSpace(mesh, \"Lagrange\", 1)\n",
    "    u = TrialFunction(V)\n",
    "    v = TestFunction(V)\n",
    "\n",
    "    bcs = [DirichletBC(V, Expression('1-x[1]*x[1]'), left_boundary),\n",
    "           DirichletBC(V, Expression('2-x[1]*x[1]'), right_boundary),\n",
    "           DirichletBC(V, Expression('1+x[0]*x[0]'), bottom_boundary),\n",
    "           DirichletBC(V, Expression('x[0]*x[0]'), top_boundary)]\n",
    "\n",
    "    a = inner(grad(u), grad(v)) * dx\n",
    "    L = Constant(0.0) * v * dx\n",
    "\n",
    "    u = Function(V)\n",
    "\n",
    "    problem = LinearVariationalProblem(a, L, u, bcs)\n",
    "    solver = LinearVariationalSolver(problem)\n",
    "    solver.solve()\n",
    "\n",
    "    u_e = Expression('1+x[0]*x[0]-x[1]*x[1]')\n",
    "    \n",
    "    return errornorm(u_e, u, norm_type='l2')"
   ]
  },
  {
   "cell_type": "code",
   "execution_count": 15,
   "metadata": {
    "collapsed": false
   },
   "outputs": [
    {
     "name": "stdout",
     "output_type": "stream",
     "text": [
      "[1.999999999999993, 1.9999999999999825, 1.9999999999999727, 1.9999999999999434, 1.9999999999998712, 1.9999999999997309]\n"
     ]
    }
   ],
   "source": [
    "N = [4, 8, 16, 32, 64, 128, 256]\n",
    "h = [1. / n for n in N]\n",
    "e = [get_error(n) for n in N]\n",
    "r = [ln(e[i + 1] / e[i]) / ln(h[i + 1] / h[i])  for i in xrange(len(e) - 1)]\n",
    "print r"
   ]
  },
  {
   "cell_type": "code",
   "execution_count": 22,
   "metadata": {
    "collapsed": false
   },
   "outputs": [
    {
     "name": "stdout",
     "output_type": "stream",
     "text": [
      "n=  4 e=0.00658808 r=1.999999999999993\n",
      "n=  8 e=0.00164702 r=1.999999999999982\n",
      "n= 16 e=0.00041175 r=1.999999999999973\n",
      "n= 32 e=0.00010294 r=1.999999999999943\n",
      "n= 64 e=0.00002573 r=1.999999999999871\n",
      "n=128 e=0.00000643 r=1.999999999999731\n",
      "n=256 e=0.00000161\n"
     ]
    }
   ],
   "source": [
    "print '\\n'.join(['n={:>3} e={:.8f} r={:.15f}'.format(N[i], e[i], r[i]) for i in xrange(len(r))])\n",
    "print 'n={:>3} e={:.8f}'.format(N[-1], e[-1])"
   ]
  }
 ],
 "metadata": {
  "kernelspec": {
   "display_name": "Python 2",
   "language": "python",
   "name": "python2"
  },
  "language_info": {
   "codemirror_mode": {
    "name": "ipython",
    "version": 2
   },
   "file_extension": ".py",
   "mimetype": "text/x-python",
   "name": "python",
   "nbconvert_exporter": "python",
   "pygments_lexer": "ipython2",
   "version": "2.7.6"
  }
 },
 "nbformat": 4,
 "nbformat_minor": 0
}
