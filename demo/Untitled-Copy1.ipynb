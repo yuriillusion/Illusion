{
 "cells": [
  {
   "cell_type": "code",
   "execution_count": 17,
   "metadata": {
    "collapsed": false
   },
   "outputs": [],
   "source": [
    "from dolfin import *\n",
    "from mshr import *\n",
    "import math\n",
    "\n",
    "l = 1.\n",
    "tol = 10E-5\n",
    "\n",
    "R = 50.\n",
    "nx = 300\n",
    "ny = 50\n",
    "\n",
    "mesh = RectangleMesh(Point(0.,0.), Point(R, math.pi / 2.), nx, ny)\n",
    "\n",
    "def solve_problem(lambd, R, count, mesh):\n",
    "    \n",
    "    class OuterBoundary(SubDomain):\n",
    "        def inside(self, x, on_boundary):\n",
    "            return on_boundary and near(x[0], R)\n",
    "\n",
    "    class InnerBoundary(SubDomain):\n",
    "        def inside(self, x, on_boundary):\n",
    "            return on_boundary and x[0] <= l and x[1] < math.pi / 2. - tol\n",
    "\n",
    "    Gamma_N = OuterBoundary()\n",
    "\n",
    "    '''\n",
    "    boundary_adaptor = EdgeFunction('bool', mesh)\n",
    "    Gamma_N.mark(boundary_adaptor, True)\n",
    "    for i in xrange(1):\n",
    "        mesh = adapt(mesh, boundary_adaptor)\n",
    "    '''\n",
    "\n",
    "    boundary_parts = MeshFunction('size_t', mesh, mesh.topology().dim() - 1)\n",
    "    \n",
    "\n",
    "    Gamma_N = OuterBoundary()\n",
    "    Gamma_N.mark(boundary_parts, 0)\n",
    "\n",
    "    V = FunctionSpace(mesh, \"Lagrange\", 1)\n",
    "    u = TrialFunction(V)\n",
    "    v = TestFunction(V)\n",
    "\n",
    "    bcs = [DirichletBC(V, Constant(1.), InnerBoundary()),\n",
    "           DirichletBC(V, Constant(-0.94373464), OuterBoundary())]\n",
    "           #DirichletBC(V, Expression('lambd * log(x[0] / p)', lambd=lambd, p=40.), OuterBoundary())]\n",
    "\n",
    "    rho = Expression('x[0]')\n",
    "    a = inner(grad(u), grad(v)) * rho * dx\n",
    "    dS = ds(subdomain_data=boundary_parts)\n",
    "    #L = Constant(lambd) * v * dS(0)\n",
    "    L = Constant(0.) * v * rho *ds\n",
    "    \n",
    "    u = Function(V)\n",
    "\n",
    "    problem = LinearVariationalProblem(a, L, u, bcs)\n",
    "    solver = LinearVariationalSolver(problem)\n",
    "    solver.solve()\n",
    "    \n",
    "    return u, mesh"
   ]
  },
  {
   "cell_type": "code",
   "execution_count": null,
   "metadata": {
    "collapsed": true
   },
   "outputs": [],
   "source": [
    "import matplotlib.pyplot as plt\n",
    "import matplotlib.tri as tri\n",
    "\n",
    "def contour_plot(u, mesh, levels_count):\n",
    "    triang = tri.Triangulation(*mesh.coordinates().reshape((-1, 2)).T,\n",
    "                               triangles=mesh.cells())\n",
    "    Z = u.compute_vertex_values(mesh)\n",
    "\n",
    "    plt.figure()\n",
    "    plt.tricontour(triang, Z, levels_count)\n",
    "    plt.colorbar()\n",
    "    plt.show()"
   ]
  },
  {
   "cell_type": "code",
   "execution_count": 2,
   "metadata": {
    "collapsed": false
   },
   "outputs": [],
   "source": [
    "def find_lambda(lambda_range, point, u_point, R, count, tol=10E-10):\n",
    "    l, r = lambda_range\n",
    "    lambd = (l + r) / 2\n",
    "    u_point_numerical = solve_problem(lambd, R, count, mesh)[0](*point)\n",
    "    while abs(u_point_numerical - u_point) > tol:\n",
    "        if u_point_numerical - u_point > 0:\n",
    "            r = lambd\n",
    "        else:\n",
    "            l = lambd\n",
    "        lambd = (l + r) / 2\n",
    "        print lambd\n",
    "        u_point_numerical = solve_problem(lambd, R, count, mesh)[0](*point)\n",
    "        print 'value:', u_point_numerical\n",
    "    return lambd"
   ]
  },
  {
   "cell_type": "code",
   "execution_count": null,
   "metadata": {
    "collapsed": true
   },
   "outputs": [],
   "source": [
    "import numpy as np\n",
    "\n",
    "def find_lambda(lambda_range, point, u_point, R, count, tol=10E-10):\n",
    "    l, r = lambda_range\n",
    "    lambda_range = np.linspace(l, r, 10)\n",
    "    u_point_numerical = [solve_problem(lambd, R, count, mesh)[0](*point) for lambd in lambda_range]\n",
    "    print u_point_numerical"
   ]
  },
  {
   "cell_type": "code",
   "execution_count": 3,
   "metadata": {
    "collapsed": false
   },
   "outputs": [
    {
     "name": "stdout",
     "output_type": "stream",
     "text": [
      "-5.0\n",
      "value: -1.01675709994\n",
      "-2.5\n",
      "value: -0.484991532418\n",
      "-1.25\n",
      "value: -0.219108748656\n",
      "-0.625\n",
      "value: -0.0861673567741\n",
      "-0.3125\n",
      "value: -0.0196966608334\n",
      "-0.15625\n",
      "value: 0.013538687137\n",
      "-0.234375\n",
      "value: -0.0030789868482\n",
      "-0.1953125\n",
      "value: 0.00522985014439\n",
      "-0.21484375\n",
      "value: 0.0010754316481\n",
      "-0.224609375\n",
      "value: -0.00100177760005\n",
      "-0.2197265625\n",
      "value: 3.68270240218e-05\n",
      "-0.22216796875\n",
      "value: -0.000482475288015\n",
      "-0.220947265625\n",
      "value: -0.000222824131997\n",
      "-0.220336914062\n",
      "value: -9.29985539874e-05\n",
      "-0.220031738281\n",
      "value: -2.80857649827e-05\n",
      "-0.219879150391\n",
      "value: 4.37062951953e-06\n",
      "-0.219955444336\n",
      "value: -1.18575677316e-05\n",
      "-0.219917297363\n",
      "value: -3.74346910606e-06\n",
      "-0.219898223877\n",
      "value: 3.13580206767e-07\n",
      "-0.21990776062\n",
      "value: -1.71494444965e-06\n",
      "-0.219902992249\n",
      "value: -7.00682121461e-07\n",
      "-0.219900608063\n",
      "value: -1.93550957333e-07\n",
      "-0.21989941597\n",
      "value: 6.00146246925e-08\n",
      "-0.219900012016\n",
      "value: -6.67681663058e-08\n",
      "-0.219899713993\n",
      "value: -3.37677080031e-09\n",
      "-0.219899564981\n",
      "value: 2.83189269239e-08\n",
      "-0.219899639487\n",
      "value: 1.24710780662e-08\n",
      "-0.21989967674\n",
      "value: 4.54715364821e-09\n",
      "-0.219899695367\n",
      "value: 5.85191402212e-10\n",
      "lambda: -0.219899695367\n"
     ]
    }
   ],
   "source": [
    "#lambda_range = (-0.0046, -0.0042)\n",
    "lambda_range = (-10., 10.)\n",
    "lambd = find_lambda(lambda_range, (40., 0.), 0., 50., 100)\n",
    "print 'lambda:', lambd"
   ]
  },
  {
   "cell_type": "code",
   "execution_count": 18,
   "metadata": {
    "collapsed": false
   },
   "outputs": [
    {
     "name": "stdout",
     "output_type": "stream",
     "text": [
      "Calling FFC just-in-time (JIT) compiler, this may take some time.\n"
     ]
    }
   ],
   "source": [
    "#lambd = -0.219899695367\n",
    "R = 50.\n",
    "count = 100\n",
    "u, mesh = solve_problem(lambd, R, count, mesh)"
   ]
  },
  {
   "cell_type": "code",
   "execution_count": 19,
   "metadata": {
    "collapsed": false
   },
   "outputs": [
    {
     "ename": "NameError",
     "evalue": "name 'contour_plot' is not defined",
     "output_type": "error",
     "traceback": [
      "\u001b[1;31m---------------------------------------------------------------------------\u001b[0m",
      "\u001b[1;31mNameError\u001b[0m                                 Traceback (most recent call last)",
      "\u001b[1;32m<ipython-input-19-e94ef1db6d6d>\u001b[0m in \u001b[0;36m<module>\u001b[1;34m()\u001b[0m\n\u001b[0;32m      1\u001b[0m \u001b[0mplot\u001b[0m\u001b[1;33m(\u001b[0m\u001b[0mu\u001b[0m\u001b[1;33m,\u001b[0m \u001b[0minteractive\u001b[0m\u001b[1;33m=\u001b[0m\u001b[0mTrue\u001b[0m\u001b[1;33m)\u001b[0m\u001b[1;33m\u001b[0m\u001b[0m\n\u001b[1;32m----> 2\u001b[1;33m \u001b[0mcontour_plot\u001b[0m\u001b[1;33m(\u001b[0m\u001b[0mu\u001b[0m\u001b[1;33m,\u001b[0m \u001b[0mmesh\u001b[0m\u001b[1;33m,\u001b[0m \u001b[1;36m30\u001b[0m\u001b[1;33m)\u001b[0m\u001b[1;33m\u001b[0m\u001b[0m\n\u001b[0m",
      "\u001b[1;31mNameError\u001b[0m: name 'contour_plot' is not defined"
     ]
    }
   ],
   "source": [
    "plot(u, interactive=True)\n",
    "contour_plot(u, mesh, 30)"
   ]
  },
  {
   "cell_type": "code",
   "execution_count": 14,
   "metadata": {
    "collapsed": false
   },
   "outputs": [],
   "source": [
    "import math\n",
    "import cmath\n",
    "\n",
    "class Exact_Solution(Expression):\n",
    "    def eval(self, value, x):\n",
    "        A = -1. / math.acosh(40. / l)\n",
    "        B = 1.\n",
    "        z = x[0] * cmath.rect(x[0], x[1])\n",
    "        ln = math.log(abs( z / l + cmath.sqrt( (z / l) ** 2 - 1 ) ))\n",
    "        value[0] = A * ln + B\n",
    "    def value_shape(self):\n",
    "        return (1,)"
   ]
  },
  {
   "cell_type": "code",
   "execution_count": 15,
   "metadata": {
    "collapsed": false
   },
   "outputs": [],
   "source": [
    "V = FunctionSpace(mesh, 'Lagrange', 3)\n",
    "exact = interpolate(Exact_Solution(element=FiniteElement(\"Quadrature\", triangle, 2)), V)"
   ]
  },
  {
   "cell_type": "code",
   "execution_count": 21,
   "metadata": {
    "collapsed": false
   },
   "outputs": [
    {
     "name": "stdout",
     "output_type": "stream",
     "text": [
      "Found multiple domains, cannot return just one.\n"
     ]
    },
    {
     "ename": "UFLException",
     "evalue": "Found multiple domains, cannot return just one.",
     "output_type": "error",
     "traceback": [
      "\u001b[1;31m---------------------------------------------------------------------------\u001b[0m",
      "\u001b[1;31mUFLException\u001b[0m                              Traceback (most recent call last)",
      "\u001b[1;32m<ipython-input-21-28bab9570281>\u001b[0m in \u001b[0;36m<module>\u001b[1;34m()\u001b[0m\n\u001b[0;32m      1\u001b[0m \u001b[0mplot\u001b[0m\u001b[1;33m(\u001b[0m\u001b[0mexact\u001b[0m\u001b[1;33m,\u001b[0m \u001b[0mmesh\u001b[0m\u001b[1;33m,\u001b[0m \u001b[0mtitle\u001b[0m\u001b[1;33m=\u001b[0m\u001b[1;34m'exact'\u001b[0m\u001b[1;33m)\u001b[0m\u001b[1;33m\u001b[0m\u001b[0m\n\u001b[0;32m      2\u001b[0m \u001b[0mplot\u001b[0m\u001b[1;33m(\u001b[0m\u001b[0mu\u001b[0m\u001b[1;33m)\u001b[0m\u001b[1;33m\u001b[0m\u001b[0m\n\u001b[1;32m----> 3\u001b[1;33m \u001b[0mplot\u001b[0m\u001b[1;33m(\u001b[0m\u001b[0mu\u001b[0m \u001b[1;33m-\u001b[0m \u001b[0mexact\u001b[0m\u001b[1;33m,\u001b[0m \u001b[0mtitle\u001b[0m\u001b[1;33m=\u001b[0m\u001b[1;34m'aaa'\u001b[0m\u001b[1;33m)\u001b[0m\u001b[1;33m\u001b[0m\u001b[0m\n\u001b[0m\u001b[0;32m      4\u001b[0m \u001b[0minteractive\u001b[0m\u001b[1;33m(\u001b[0m\u001b[1;33m)\u001b[0m\u001b[1;33m\u001b[0m\u001b[0m\n",
      "\u001b[1;32m/usr/lib/python2.7/dist-packages/dolfin/common/plotting.pyc\u001b[0m in \u001b[0;36mplot\u001b[1;34m(object, *args, **kwargs)\u001b[0m\n\u001b[0;32m    124\u001b[0m             cpp.info(\"Object cannot be plotted directly, projecting to\"\\\n\u001b[0;32m    125\u001b[0m                     \" piecewise linears.\")\n\u001b[1;32m--> 126\u001b[1;33m             \u001b[0mobject\u001b[0m \u001b[1;33m=\u001b[0m \u001b[0mproject\u001b[0m\u001b[1;33m(\u001b[0m\u001b[0mobject\u001b[0m\u001b[1;33m,\u001b[0m \u001b[0mmesh\u001b[0m\u001b[1;33m=\u001b[0m\u001b[0mmesh\u001b[0m\u001b[1;33m)\u001b[0m\u001b[1;33m\u001b[0m\u001b[0m\n\u001b[0m\u001b[0;32m    127\u001b[0m         \u001b[1;32mexcept\u001b[0m \u001b[0mException\u001b[0m \u001b[1;32mas\u001b[0m \u001b[0me\u001b[0m\u001b[1;33m:\u001b[0m\u001b[1;33m\u001b[0m\u001b[0m\n\u001b[0;32m    128\u001b[0m             msg = (\"Don't know how to plot given object:\\n  %s\\n\"\\\n",
      "\u001b[1;32m/usr/lib/python2.7/dist-packages/dolfin/fem/projection.pyc\u001b[0m in \u001b[0;36mproject\u001b[1;34m(v, V, bcs, mesh, function, solver_type, preconditioner_type, form_compiler_parameters)\u001b[0m\n\u001b[0;32m     88\u001b[0m         \u001b[1;32melse\u001b[0m\u001b[1;33m:\u001b[0m\u001b[1;33m\u001b[0m\u001b[0m\n\u001b[0;32m     89\u001b[0m             \u001b[1;31m# Otherwise try extracting function space from expression\u001b[0m\u001b[1;33m\u001b[0m\u001b[1;33m\u001b[0m\u001b[0m\n\u001b[1;32m---> 90\u001b[1;33m             \u001b[0mV\u001b[0m \u001b[1;33m=\u001b[0m \u001b[0m_extract_function_space\u001b[0m\u001b[1;33m(\u001b[0m\u001b[0mv\u001b[0m\u001b[1;33m,\u001b[0m \u001b[0mmesh\u001b[0m\u001b[1;33m)\u001b[0m\u001b[1;33m\u001b[0m\u001b[0m\n\u001b[0m\u001b[0;32m     91\u001b[0m \u001b[1;33m\u001b[0m\u001b[0m\n\u001b[0;32m     92\u001b[0m     \u001b[1;31m# Check arguments\u001b[0m\u001b[1;33m\u001b[0m\u001b[1;33m\u001b[0m\u001b[0m\n",
      "\u001b[1;32m/usr/lib/python2.7/dist-packages/dolfin/fem/projection.pyc\u001b[0m in \u001b[0;36m_extract_function_space\u001b[1;34m(expression, mesh)\u001b[0m\n\u001b[0;32m    124\u001b[0m     \u001b[1;31m# Get mesh from expression\u001b[0m\u001b[1;33m\u001b[0m\u001b[1;33m\u001b[0m\u001b[0m\n\u001b[0;32m    125\u001b[0m     \u001b[1;32mif\u001b[0m \u001b[0mmesh\u001b[0m \u001b[1;32mis\u001b[0m \u001b[0mNone\u001b[0m\u001b[1;33m:\u001b[0m\u001b[1;33m\u001b[0m\u001b[0m\n\u001b[1;32m--> 126\u001b[1;33m         \u001b[0mdomain\u001b[0m \u001b[1;33m=\u001b[0m \u001b[0mexpression\u001b[0m\u001b[1;33m.\u001b[0m\u001b[0mdomain\u001b[0m\u001b[1;33m(\u001b[0m\u001b[1;33m)\u001b[0m\u001b[1;33m\u001b[0m\u001b[0m\n\u001b[0m\u001b[0;32m    127\u001b[0m         \u001b[1;32mif\u001b[0m \u001b[0mdomain\u001b[0m \u001b[1;32mis\u001b[0m \u001b[1;32mnot\u001b[0m \u001b[0mNone\u001b[0m\u001b[1;33m:\u001b[0m\u001b[1;33m\u001b[0m\u001b[0m\n\u001b[0;32m    128\u001b[0m             \u001b[0mmesh\u001b[0m \u001b[1;33m=\u001b[0m \u001b[0mdomain\u001b[0m\u001b[1;33m.\u001b[0m\u001b[0mdata\u001b[0m\u001b[1;33m(\u001b[0m\u001b[1;33m)\u001b[0m\u001b[1;33m\u001b[0m\u001b[0m\n",
      "\u001b[1;32m/usr/lib/python2.7/dist-packages/ufl/core/expr.pyc\u001b[0m in \u001b[0;36mdomain\u001b[1;34m(self)\u001b[0m\n\u001b[0;32m    314\u001b[0m             \u001b[1;32mreturn\u001b[0m \u001b[0mdomain\u001b[0m\u001b[1;33m\u001b[0m\u001b[0m\n\u001b[0;32m    315\u001b[0m         \u001b[1;32melif\u001b[0m \u001b[0mdomains\u001b[0m\u001b[1;33m:\u001b[0m\u001b[1;33m\u001b[0m\u001b[0m\n\u001b[1;32m--> 316\u001b[1;33m             \u001b[0merror\u001b[0m\u001b[1;33m(\u001b[0m\u001b[1;34m\"Found multiple domains, cannot return just one.\"\u001b[0m\u001b[1;33m)\u001b[0m\u001b[1;33m\u001b[0m\u001b[0m\n\u001b[0m\u001b[0;32m    317\u001b[0m         \u001b[1;32melse\u001b[0m\u001b[1;33m:\u001b[0m\u001b[1;33m\u001b[0m\u001b[0m\n\u001b[0;32m    318\u001b[0m             \u001b[1;32mreturn\u001b[0m \u001b[0mNone\u001b[0m\u001b[1;33m\u001b[0m\u001b[0m\n",
      "\u001b[1;32m/usr/lib/python2.7/dist-packages/ufl/log.pyc\u001b[0m in \u001b[0;36merror\u001b[1;34m(self, *message)\u001b[0m\n\u001b[0;32m    149\u001b[0m         \u001b[1;34m\"Write error message and raise an exception.\"\u001b[0m\u001b[1;33m\u001b[0m\u001b[0m\n\u001b[0;32m    150\u001b[0m         \u001b[0mself\u001b[0m\u001b[1;33m.\u001b[0m\u001b[0m_log\u001b[0m\u001b[1;33m.\u001b[0m\u001b[0merror\u001b[0m\u001b[1;33m(\u001b[0m\u001b[1;33m*\u001b[0m\u001b[0mmessage\u001b[0m\u001b[1;33m)\u001b[0m\u001b[1;33m\u001b[0m\u001b[0m\n\u001b[1;32m--> 151\u001b[1;33m         \u001b[1;32mraise\u001b[0m \u001b[0mself\u001b[0m\u001b[1;33m.\u001b[0m\u001b[0m_exception_type\u001b[0m\u001b[1;33m(\u001b[0m\u001b[0mself\u001b[0m\u001b[1;33m.\u001b[0m\u001b[0m_format_raw\u001b[0m\u001b[1;33m(\u001b[0m\u001b[1;33m*\u001b[0m\u001b[0mmessage\u001b[0m\u001b[1;33m)\u001b[0m\u001b[1;33m)\u001b[0m\u001b[1;33m\u001b[0m\u001b[0m\n\u001b[0m\u001b[0;32m    152\u001b[0m \u001b[1;33m\u001b[0m\u001b[0m\n\u001b[0;32m    153\u001b[0m     \u001b[1;32mdef\u001b[0m \u001b[0mbegin\u001b[0m\u001b[1;33m(\u001b[0m\u001b[0mself\u001b[0m\u001b[1;33m,\u001b[0m \u001b[1;33m*\u001b[0m\u001b[0mmessage\u001b[0m\u001b[1;33m)\u001b[0m\u001b[1;33m:\u001b[0m\u001b[1;33m\u001b[0m\u001b[0m\n",
      "\u001b[1;31mUFLException\u001b[0m: Found multiple domains, cannot return just one."
     ]
    }
   ],
   "source": [
    "plot(exact, mesh, title='exact')\n",
    "plot(u)\n",
    "plot(u - exact, title='aaa')\n",
    "interactive()"
   ]
  },
  {
   "cell_type": "code",
   "execution_count": 20,
   "metadata": {
    "collapsed": false
   },
   "outputs": [
    {
     "name": "stdout",
     "output_type": "stream",
     "text": [
      "-0.943734632684 -0.943734650941\n",
      "-0.94373464\n"
     ]
    }
   ],
   "source": [
    "print exact(R, 0.), exact(R, math.pi / 2.)\n",
    "print u(R, 0.)"
   ]
  },
  {
   "cell_type": "code",
   "execution_count": null,
   "metadata": {
    "collapsed": false
   },
   "outputs": [],
   "source": [
    "from dolfin import *\n",
    "from mshr import *\n",
    "\n",
    "w = 0.005\n",
    "l = 1.\n",
    "tol = 10E-14\n",
    "R = 30.\n",
    "count = 100\n",
    "lambd = -0.2939453125\n",
    "\n",
    "mesh = generate_mesh(Rectangle(Point(-R, -R), Point(R, R)) - Rectangle(Point(-l, -w), Point(l, w)), count)\n",
    "\n",
    "class OuterBoundary(SubDomain):\n",
    "    def inside(self, x, on_boundary):\n",
    "        return on_boundary and (near(abs(x[0]), R) or near(abs(x[1]), R))\n",
    "\n",
    "class InnerBoundary(SubDomain):\n",
    "    def inside(self, x, on_boundary):\n",
    "        return on_boundary and abs(x[0]) < l - tol and abs(x[1]) < w + tol\n",
    "\n",
    "Gamma_N = InnerBoundary()\n",
    "\n",
    "boundary_adaptor = EdgeFunction('bool', mesh)\n",
    "Gamma_N.mark(boundary_adaptor, True)\n",
    "for i in xrange(1):\n",
    "    mesh = adapt(mesh, boundary_adaptor)\n",
    "\n",
    "boundary_parts = MeshFunction('size_t', mesh, mesh.topology().dim() - 1)\n",
    "\n",
    "\n",
    "Gamma_R = OuterBoundary()\n",
    "Gamma_R.mark(boundary_parts, 0)\n",
    "\n",
    "V = FunctionSpace(mesh, \"Lagrange\", 1)\n",
    "u = TrialFunction(V)\n",
    "v = TestFunction(V)\n",
    "\n",
    "bcs = [DirichletBC(V, Constant(1.), InnerBoundary())]\n",
    "\n",
    "a = inner(grad(u), grad(v)) * dx\n",
    "#L = Constant(0.0) * v * ds\n",
    "dS = ds(subdomain_data=boundary_parts)\n",
    "L = Expression('lambd / sqrt(x[0]*x[0] + x[1]*x[1])', lambd=lambd) * v * dS(0)\n",
    "\n",
    "u = Function(V)\n",
    "\n",
    "problem = LinearVariationalProblem(a, L, u, bcs)\n",
    "solver = LinearVariationalSolver(problem)\n",
    "solver.solve()\n",
    "\n",
    "plot(mesh)\n",
    "\n",
    "\n",
    "\n",
    "import math\n",
    "import cmath\n",
    "\n",
    "class Exact_Solution(Expression):\n",
    "    def eval(self, value, x):\n",
    "        A = -1. / math.acosh(10. / l)\n",
    "        B = 1.\n",
    "        z = complex(x[0], x[1])\n",
    "        ln = math.log(abs( z / l + cmath.sqrt( (z / l) ** 2 - 1 ) ))\n",
    "        if x[0] < 0:\n",
    "            ln *= -1.\n",
    "        value[0] = A * ln + B\n",
    "    def value_shape(self):\n",
    "        return (1,)\n",
    "\n",
    "Ve = FunctionSpace(mesh, 'Lagrange', 3)\n",
    "exact = interpolate(Exact_Solution(element=FiniteElement(\"Quadrature\", triangle, 2)), Ve)\n",
    "\n",
    "plot(u - exact)\n",
    "\n",
    "print u(10., 0.), exact(10., 0.)\n",
    "\n",
    "interactive()"
   ]
  },
  {
   "cell_type": "code",
   "execution_count": null,
   "metadata": {
    "collapsed": false
   },
   "outputs": [],
   "source": [
    "from dolfin import *\n",
    "from mshr import *\n",
    "\n",
    "w = 0.005\n",
    "l = 1.\n",
    "tol = 10E-14\n",
    "R = 30.\n",
    "count = 100\n",
    "lambd = -0.2939453125\n",
    "\n",
    "mesh = generate_mesh(Circle(Point(0., 0.), R, 30) - Rectangle(Point(-R, -R), Point(0, R)) -\n",
    "                     Rectangle(Point(0, -R), Point(R, 0)) - Rectangle(Point(0., -w), Point(l, w)), count)\n",
    "\n",
    "class OuterBoundary(SubDomain):\n",
    "    def inside(self, x, on_boundary):\n",
    "        return on_boundary and (near(x[0], R) or near(x[1], R))\n",
    "\n",
    "class InnerBoundary(SubDomain):\n",
    "    def inside(self, x, on_boundary):\n",
    "        return on_boundary and abs(x[0]) < l - tol and abs(x[1]) < w + tol\n",
    "\n",
    "Gamma_N = InnerBoundary()\n",
    "\n",
    "boundary_adaptor = EdgeFunction('bool', mesh)\n",
    "Gamma_N.mark(boundary_adaptor, True)\n",
    "for i in xrange(1):\n",
    "    mesh = adapt(mesh, boundary_adaptor)\n",
    "\n",
    "boundary_parts = MeshFunction('size_t', mesh, mesh.topology().dim() - 1)\n",
    "\n",
    "\n",
    "Gamma_R = OuterBoundary()\n",
    "Gamma_R.mark(boundary_parts, 0)\n",
    "\n",
    "V = FunctionSpace(mesh, \"Lagrange\", 1)\n",
    "u = TrialFunction(V)\n",
    "v = TestFunction(V)\n",
    "\n",
    "bcs = [DirichletBC(V, Constant(1.), InnerBoundary())]\n",
    "\n",
    "a = inner(grad(u), grad(v)) * dx\n",
    "dS = ds(subdomain_data=boundary_parts)\n",
    "L = Expression('lambd / sqrt(x[0]*x[0] + x[1]*x[1])', lambd=lambd) * v * dS(0)\n",
    "\n",
    "u = Function(V)\n",
    "\n",
    "problem = LinearVariationalProblem(a, L, u, bcs)\n",
    "solver = LinearVariationalSolver(problem)\n",
    "solver.solve()\n",
    "\n",
    "plot(mesh)\n",
    "\n",
    "\n",
    "\n",
    "import math\n",
    "import cmath\n",
    "\n",
    "class Exact_Solution(Expression):\n",
    "    def eval(self, value, x):\n",
    "        A = -1. / math.acosh(10. / l)\n",
    "        B = 1.\n",
    "        z = complex(x[0], x[1])\n",
    "        ln = math.log(abs( z / l + cmath.sqrt( (z / l) ** 2 - 1 ) ))\n",
    "        if x[0] < 0:\n",
    "            ln *= -1.\n",
    "        value[0] = A * ln + B\n",
    "    def value_shape(self):\n",
    "        return (1,)\n",
    "\n",
    "Ve = FunctionSpace(mesh, 'Lagrange', 3)\n",
    "exact = interpolate(Exact_Solution(element=FiniteElement(\"Quadrature\", triangle, 2)), Ve)\n",
    "\n",
    "plot(u)\n",
    "plot(exact, mesh)\n",
    "plot(u - exact)\n",
    "\n",
    "print u(10., 0.), exact(10., 0.)\n",
    "\n",
    "interactive()"
   ]
  }
 ],
 "metadata": {
  "kernelspec": {
   "display_name": "Python 2",
   "language": "python",
   "name": "python2"
  },
  "language_info": {
   "codemirror_mode": {
    "name": "ipython",
    "version": 2
   },
   "file_extension": ".py",
   "mimetype": "text/x-python",
   "name": "python",
   "nbconvert_exporter": "python",
   "pygments_lexer": "ipython2",
   "version": "2.7.6"
  }
 },
 "nbformat": 4,
 "nbformat_minor": 0
}
