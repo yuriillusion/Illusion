{
 "cells": [
  {
   "cell_type": "code",
   "execution_count": 1,
   "metadata": {
    "collapsed": false
   },
   "outputs": [
    {
     "name": "stdout",
     "output_type": "stream",
     "text": [
      "0.97171655469\n",
      "0.968195497488\n"
     ]
    },
    {
     "data": {
      "text/plain": [
       "<matplotlib.colorbar.Colorbar instance at 0x9b66d46c>"
      ]
     },
     "execution_count": 1,
     "metadata": {},
     "output_type": "execute_result"
    }
   ],
   "source": [
    "from dolfin import *\n",
    "from mshr import *\n",
    "\n",
    "R = 100.\n",
    "w = 0.0001\n",
    "l = 2.\n",
    "count = 100\n",
    "tol = 10E-14\n",
    "\n",
    "mesh = generate_mesh(Circle(Point(0., 0.), R, 150) - Rectangle(Point(-l, -w), Point(l, w)), count)\n",
    "\n",
    "class OuterBoundary(SubDomain):\n",
    "    def inside(self, x, on_boundary):\n",
    "        return on_boundary and x[0]*x[0] + x[1]*x[1] > 25.\n",
    "\n",
    "class InnerBoundary(SubDomain):\n",
    "    def inside(self, x, on_boundary):\n",
    "        return abs(x[0]) <= l and near(abs(x[1]), 0, eps=10E-5)#abs(x[0]) < l - tol and abs(x[1]) < w + tol\n",
    "\n",
    "boundary_adaptor = EdgeFunction('bool', mesh)\n",
    "\n",
    "Gamma_U = InnerBoundary()\n",
    "Gamma_U.mark(boundary_adaptor, True)\n",
    "for i in xrange(5):\n",
    "    mesh = adapt(mesh, boundary_adaptor)\n",
    "    \n",
    "boundary_parts = MeshFunction('uint', mesh, mesh.topology().dim() - 1)\n",
    "\n",
    "Gamma_N = OuterBoundary()\n",
    "Gamma_N.mark(boundary_parts, 0)\n",
    "\n",
    "V = FunctionSpace(mesh, \"Lagrange\", 1)\n",
    "u = TrialFunction(V)\n",
    "v = TestFunction(V)\n",
    "\n",
    "bcs = [DirichletBC(V, Constant(1.), InnerBoundary()),\n",
    "       DirichletBC(V, Constant(0.), OuterBoundary())]\n",
    "\n",
    "rho = Expression('sqrt(x[0]*x[0])')\n",
    "\n",
    "a = inner(grad(u), grad(v)) * rho * dx\n",
    "dS = ds(subdomain_data=boundary_parts)\n",
    "L = Constant(0.) * rho * v * ds\n",
    "\n",
    "u = Function(V)\n",
    "\n",
    "problem = LinearVariationalProblem(a, L, u, bcs)\n",
    "solver = LinearVariationalSolver(problem)\n",
    "solver.solve()\n",
    "\n",
    "plot(u)\n",
    "#plot(mesh)\n",
    "\n",
    "ex = Expression('2. * u_0 / pi * atan(pow(2. * b / ((x[0]*x[0] + x[1]*x[1]) - b + pow(pow((x[0]*x[0] + x[1]*x[1]) - b, 2.)+ 4*b*x[1]*x[1], 0.5)), 0.5))',\n",
    "                b = l * l, u_0=1.)\n",
    "plot(u - ex)\n",
    "\n",
    "print u(0., 0.1)\n",
    "print ex(0., 0.1)\n",
    "\n",
    "\n",
    "\n",
    "interactive()\n",
    "\n",
    "\n",
    "\n",
    "levels = 50\n",
    "\n",
    "import matplotlib.pyplot as plt\n",
    "import matplotlib.tri as tri\n",
    "\n",
    "triang = tri.Triangulation(*mesh.coordinates().reshape((-1, 2)).T,\n",
    "                           triangles=mesh.cells())\n",
    "Z = u.compute_vertex_values(mesh)\n",
    "\n",
    "plt.figure()\n",
    "plt.tricontour(triang, Z, levels)\n",
    "plt.colorbar()\n",
    "#lt.show()"
   ]
  },
  {
   "cell_type": "code",
   "execution_count": 11,
   "metadata": {
    "collapsed": false
   },
   "outputs": [
    {
     "name": "stdout",
     "output_type": "stream",
     "text": [
      "Unknown finite element \"GC\".\n"
     ]
    },
    {
     "ename": "UFLException",
     "evalue": "Unknown finite element \"GC\".",
     "output_type": "error",
     "traceback": [
      "\u001b[1;31m---------------------------------------------------------------------------\u001b[0m",
      "\u001b[1;31mUFLException\u001b[0m                              Traceback (most recent call last)",
      "\u001b[1;32m<ipython-input-11-f3d996e6ab84>\u001b[0m in \u001b[0;36m<module>\u001b[1;34m()\u001b[0m\n\u001b[0;32m     30\u001b[0m \u001b[0mGamma_N\u001b[0m\u001b[1;33m.\u001b[0m\u001b[0mmark\u001b[0m\u001b[1;33m(\u001b[0m\u001b[0mboundary_parts\u001b[0m\u001b[1;33m,\u001b[0m \u001b[1;36m0\u001b[0m\u001b[1;33m)\u001b[0m\u001b[1;33m\u001b[0m\u001b[0m\n\u001b[0;32m     31\u001b[0m \u001b[1;33m\u001b[0m\u001b[0m\n\u001b[1;32m---> 32\u001b[1;33m \u001b[0mV\u001b[0m \u001b[1;33m=\u001b[0m \u001b[0mFunctionSpace\u001b[0m\u001b[1;33m(\u001b[0m\u001b[0mmesh\u001b[0m\u001b[1;33m,\u001b[0m \u001b[1;34m\"GC\"\u001b[0m\u001b[1;33m,\u001b[0m \u001b[1;36m1\u001b[0m\u001b[1;33m)\u001b[0m\u001b[1;33m\u001b[0m\u001b[0m\n\u001b[0m\u001b[0;32m     33\u001b[0m \u001b[0mu\u001b[0m \u001b[1;33m=\u001b[0m \u001b[0mTrialFunction\u001b[0m\u001b[1;33m(\u001b[0m\u001b[0mV\u001b[0m\u001b[1;33m)\u001b[0m\u001b[1;33m\u001b[0m\u001b[0m\n\u001b[0;32m     34\u001b[0m \u001b[0mv\u001b[0m \u001b[1;33m=\u001b[0m \u001b[0mTestFunction\u001b[0m\u001b[1;33m(\u001b[0m\u001b[0mV\u001b[0m\u001b[1;33m)\u001b[0m\u001b[1;33m\u001b[0m\u001b[0m\n",
      "\u001b[1;32m/usr/lib/python2.7/dist-packages/dolfin/functions/functionspace.pyc\u001b[0m in \u001b[0;36m__init__\u001b[1;34m(self, mesh, family, degree, form_degree, constrained_domain, restriction)\u001b[0m\n\u001b[0;32m    461\u001b[0m \u001b[1;33m\u001b[0m\u001b[0m\n\u001b[0;32m    462\u001b[0m         \u001b[1;31m# Create UFL element\u001b[0m\u001b[1;33m\u001b[0m\u001b[1;33m\u001b[0m\u001b[0m\n\u001b[1;32m--> 463\u001b[1;33m         \u001b[0melement\u001b[0m \u001b[1;33m=\u001b[0m \u001b[0mufl\u001b[0m\u001b[1;33m.\u001b[0m\u001b[0mFiniteElement\u001b[0m\u001b[1;33m(\u001b[0m\u001b[0mfamily\u001b[0m\u001b[1;33m,\u001b[0m \u001b[0mufl_domain\u001b[0m\u001b[1;33m,\u001b[0m \u001b[0mdegree\u001b[0m\u001b[1;33m,\u001b[0m \u001b[0mform_degree\u001b[0m\u001b[1;33m=\u001b[0m\u001b[0mform_degree\u001b[0m\u001b[1;33m)\u001b[0m\u001b[1;33m\u001b[0m\u001b[0m\n\u001b[0m\u001b[0;32m    464\u001b[0m         \u001b[1;32mif\u001b[0m \u001b[0mrestriction\u001b[0m \u001b[1;32mis\u001b[0m \u001b[1;32mnot\u001b[0m \u001b[0mNone\u001b[0m\u001b[1;33m:\u001b[0m\u001b[1;33m\u001b[0m\u001b[0m\n\u001b[0;32m    465\u001b[0m             \u001b[0melement\u001b[0m \u001b[1;33m=\u001b[0m \u001b[0melement\u001b[0m\u001b[1;33m[\u001b[0m\u001b[0mrestriction\u001b[0m\u001b[1;33m]\u001b[0m\u001b[1;33m\u001b[0m\u001b[0m\n",
      "\u001b[1;32m/usr/lib/python2.7/dist-packages/ufl/finiteelement/finiteelement.pyc\u001b[0m in \u001b[0;36m__init__\u001b[1;34m(self, family, domain, degree, form_degree, quad_scheme)\u001b[0m\n\u001b[0;32m     67\u001b[0m \u001b[1;33m\u001b[0m\u001b[0m\n\u001b[0;32m     68\u001b[0m         \u001b[0mfamily\u001b[0m\u001b[1;33m,\u001b[0m \u001b[0mshort_name\u001b[0m\u001b[1;33m,\u001b[0m \u001b[0mdegree\u001b[0m\u001b[1;33m,\u001b[0m \u001b[0mvalue_shape\u001b[0m\u001b[1;33m,\u001b[0m \u001b[0mreference_value_shape\u001b[0m\u001b[1;33m,\u001b[0m \u001b[0msobolev_space\u001b[0m\u001b[1;33m,\u001b[0m \u001b[0mmapping\u001b[0m \u001b[1;33m=\u001b[0m\u001b[0;31m \u001b[0m\u001b[0;31m\\\u001b[0m\u001b[1;33m\u001b[0m\u001b[0m\n\u001b[1;32m---> 69\u001b[1;33m           \u001b[0mcanonical_element_description\u001b[0m\u001b[1;33m(\u001b[0m\u001b[0mfamily\u001b[0m\u001b[1;33m,\u001b[0m \u001b[0mcell\u001b[0m\u001b[1;33m,\u001b[0m \u001b[0mdegree\u001b[0m\u001b[1;33m,\u001b[0m \u001b[0mform_degree\u001b[0m\u001b[1;33m)\u001b[0m\u001b[1;33m\u001b[0m\u001b[0m\n\u001b[0m\u001b[0;32m     70\u001b[0m \u001b[1;33m\u001b[0m\u001b[0m\n\u001b[0;32m     71\u001b[0m         \u001b[1;31m# TODO: Move these to base? Might be better to instead simplify base though.\u001b[0m\u001b[1;33m\u001b[0m\u001b[1;33m\u001b[0m\u001b[0m\n",
      "\u001b[1;32m/usr/lib/python2.7/dist-packages/ufl/finiteelement/elementlist.pyc\u001b[0m in \u001b[0;36mcanonical_element_description\u001b[1;34m(family, cell, order, form_degree)\u001b[0m\n\u001b[0;32m    247\u001b[0m     \u001b[1;31m# Check that the element family exists\u001b[0m\u001b[1;33m\u001b[0m\u001b[1;33m\u001b[0m\u001b[0m\n\u001b[0;32m    248\u001b[0m     ufl_assert(family in ufl_elements,\n\u001b[1;32m--> 249\u001b[1;33m                'Unknown finite element \"%s\".' % family)\n\u001b[0m\u001b[0;32m    250\u001b[0m \u001b[1;33m\u001b[0m\u001b[0m\n\u001b[0;32m    251\u001b[0m     \u001b[1;31m# Check that element data is valid (and also get common family name)\u001b[0m\u001b[1;33m\u001b[0m\u001b[1;33m\u001b[0m\u001b[0m\n",
      "\u001b[1;32m/usr/lib/python2.7/dist-packages/ufl/assertions.pyc\u001b[0m in \u001b[0;36mufl_assert\u001b[1;34m(condition, *message)\u001b[0m\n\u001b[0;32m     35\u001b[0m \u001b[1;32mdef\u001b[0m \u001b[0mufl_assert\u001b[0m\u001b[1;33m(\u001b[0m\u001b[0mcondition\u001b[0m\u001b[1;33m,\u001b[0m \u001b[1;33m*\u001b[0m\u001b[0mmessage\u001b[0m\u001b[1;33m)\u001b[0m\u001b[1;33m:\u001b[0m\u001b[1;33m\u001b[0m\u001b[0m\n\u001b[0;32m     36\u001b[0m     \u001b[1;34m\"Assert that condition is true and otherwise issue an error with given message.\"\u001b[0m\u001b[1;33m\u001b[0m\u001b[0m\n\u001b[1;32m---> 37\u001b[1;33m     \u001b[1;32mif\u001b[0m \u001b[1;32mnot\u001b[0m \u001b[0mcondition\u001b[0m\u001b[1;33m:\u001b[0m \u001b[0merror\u001b[0m\u001b[1;33m(\u001b[0m\u001b[1;33m*\u001b[0m\u001b[0mmessage\u001b[0m\u001b[1;33m)\u001b[0m\u001b[1;33m\u001b[0m\u001b[0m\n\u001b[0m\u001b[0;32m     38\u001b[0m \u001b[1;33m\u001b[0m\u001b[0m\n",
      "\u001b[1;32m/usr/lib/python2.7/dist-packages/ufl/log.pyc\u001b[0m in \u001b[0;36merror\u001b[1;34m(self, *message)\u001b[0m\n\u001b[0;32m    149\u001b[0m         \u001b[1;34m\"Write error message and raise an exception.\"\u001b[0m\u001b[1;33m\u001b[0m\u001b[0m\n\u001b[0;32m    150\u001b[0m         \u001b[0mself\u001b[0m\u001b[1;33m.\u001b[0m\u001b[0m_log\u001b[0m\u001b[1;33m.\u001b[0m\u001b[0merror\u001b[0m\u001b[1;33m(\u001b[0m\u001b[1;33m*\u001b[0m\u001b[0mmessage\u001b[0m\u001b[1;33m)\u001b[0m\u001b[1;33m\u001b[0m\u001b[0m\n\u001b[1;32m--> 151\u001b[1;33m         \u001b[1;32mraise\u001b[0m \u001b[0mself\u001b[0m\u001b[1;33m.\u001b[0m\u001b[0m_exception_type\u001b[0m\u001b[1;33m(\u001b[0m\u001b[0mself\u001b[0m\u001b[1;33m.\u001b[0m\u001b[0m_format_raw\u001b[0m\u001b[1;33m(\u001b[0m\u001b[1;33m*\u001b[0m\u001b[0mmessage\u001b[0m\u001b[1;33m)\u001b[0m\u001b[1;33m)\u001b[0m\u001b[1;33m\u001b[0m\u001b[0m\n\u001b[0m\u001b[0;32m    152\u001b[0m \u001b[1;33m\u001b[0m\u001b[0m\n\u001b[0;32m    153\u001b[0m     \u001b[1;32mdef\u001b[0m \u001b[0mbegin\u001b[0m\u001b[1;33m(\u001b[0m\u001b[0mself\u001b[0m\u001b[1;33m,\u001b[0m \u001b[1;33m*\u001b[0m\u001b[0mmessage\u001b[0m\u001b[1;33m)\u001b[0m\u001b[1;33m:\u001b[0m\u001b[1;33m\u001b[0m\u001b[0m\n",
      "\u001b[1;31mUFLException\u001b[0m: Unknown finite element \"GC\"."
     ]
    }
   ],
   "source": [
    "from dolfin import *\n",
    "from mshr import *\n",
    "\n",
    "R = 70.\n",
    "w = 0.0001\n",
    "l = 2.\n",
    "count = 150\n",
    "tol = 10E-14\n",
    "\n",
    "mesh = generate_mesh(Circle(Point(0., 0.), R, 150)  - Rectangle(Point(-l, -w), Point(l, w)), count)\n",
    "\n",
    "class OuterBoundary(SubDomain):\n",
    "    def inside(self, x, on_boundary):\n",
    "        return on_boundary and x[0]*x[0] + x[1]*x[1] > 25.\n",
    "\n",
    "class InnerBoundary(SubDomain):\n",
    "    def inside(self, x, on_boundary):\n",
    "        return abs(x[0]) <= l and near(abs(x[1]), 0, eps=10E-5)\n",
    "\n",
    "boundary_adaptor = EdgeFunction('bool', mesh)\n",
    "\n",
    "Gamma_U = InnerBoundary()\n",
    "Gamma_U.mark(boundary_adaptor, True)\n",
    "for i in xrange(3):\n",
    "    mesh = adapt(mesh, boundary_adaptor)\n",
    "    \n",
    "boundary_parts = MeshFunction('uint', mesh, mesh.topology().dim() - 1)\n",
    "\n",
    "Gamma_N = OuterBoundary()\n",
    "Gamma_N.mark(boundary_parts, 0)\n",
    "\n",
    "V = FunctionSpace(mesh, \"СП\", 1)\n",
    "u = TrialFunction(V)\n",
    "v = TestFunction(V)\n",
    "\n",
    "bcs = [DirichletBC(V, Constant(1.), InnerBoundary())]\n",
    "\n",
    "rho = Expression('sqrt(x[0]*x[0])')\n",
    "inv_r = Expression('1/sqrt(x[0]*x[0]+x[1]*x[1])')\n",
    "\n",
    "\n",
    "dS = ds(subdomain_data=boundary_parts)\n",
    "a = inner(grad(u), grad(v)) * rho * dx + rho * inv_r * u * v * dS(0)\n",
    "L = Constant(0.) * rho * v * ds\n",
    "\n",
    "u = Function(V)\n",
    "\n",
    "problem = LinearVariationalProblem(a, L, u, bcs)\n",
    "solver = LinearVariationalSolver(problem)\n",
    "solver.solve()\n",
    "\n",
    "plot(u)\n",
    "plot(mesh)\n",
    "\n",
    "ex = Expression('2. * u_0 / pi * atan(pow(2. * b / ((x[0]*x[0] + x[1]*x[1]) - b + pow(pow((x[0]*x[0] + x[1]*x[1]) - b, 2.)+ 4*b*x[1]*x[1], 0.5)), 0.5))',\n",
    "                b = l * l, u_0=1.)\n",
    "plot(u - ex)\n",
    "plot(ex, mesh)\n",
    "\n",
    "\n",
    "\n",
    "interactive()\n",
    "\n",
    "\n",
    "\n",
    "levels = 30\n",
    "\n",
    "import matplotlib.pyplot as plt\n",
    "import matplotlib.tri as tri\n",
    "\n",
    "triang = tri.Triangulation(*mesh.coordinates().reshape((-1, 2)).T,\n",
    "                           triangles=mesh.cells())\n",
    "Z = u.compute_vertex_values(mesh)\n",
    "\n",
    "plt.figure()\n",
    "plt.tricontour(triang, Z, levels)\n",
    "plt.colorbar()\n",
    "\n",
    "\n",
    "triang = tri.Triangulation(*mesh.coordinates().reshape((-1, 2)).T,\n",
    "                           triangles=mesh.cells())\n",
    "Z = ex.compute_vertex_values(mesh)\n",
    "\n",
    "plt.figure()\n",
    "plt.tricontour(triang, Z, levels)\n",
    "plt.colorbar()\n",
    "plt.show()"
   ]
  },
  {
   "cell_type": "code",
   "execution_count": 10,
   "metadata": {
    "collapsed": false
   },
   "outputs": [
    {
     "name": "stdout",
     "output_type": "stream",
     "text": [
      "0.0688610979106 0.0634667966777\n",
      "0.0689520625647 0.0637845605523\n"
     ]
    }
   ],
   "source": [
    "R = 20\n",
    "tol = 0.005\n",
    "print u(0., R-tol), ex(0., R - tol)\n",
    "print u(R - tol, 0.), ex(R - tol, 0.)"
   ]
  },
  {
   "cell_type": "code",
   "execution_count": 19,
   "metadata": {
    "collapsed": false
   },
   "outputs": [],
   "source": [
    "r = 1.\n",
    "msh = generate_mesh(Circle(Point(0., 0.), 5., 30), 200)\n",
    "ex = Expression('atan(pow(2. * b / ((x[0]*x[0] + x[1]*x[1]) - b + pow(pow((x[0]*x[0] + x[1]*x[1]) - b, 2.)+ 4*b*x[1]*x[1], 0.5)), 0.5))', b = r * r)\n",
    "plot(ex, msh)\n",
    "interactive()"
   ]
  },
  {
   "cell_type": "code",
   "execution_count": 8,
   "metadata": {
    "collapsed": false
   },
   "outputs": [],
   "source": [
    "mimimi = generate_mesh(Rectangle(Point(0., 0.), Point(1., 1.)), 5.)\n",
    "plot(mimimi)\n",
    "interactive()"
   ]
  }
 ],
 "metadata": {
  "kernelspec": {
   "display_name": "Python 2",
   "language": "python",
   "name": "python2"
  },
  "language_info": {
   "codemirror_mode": {
    "name": "ipython",
    "version": 2
   },
   "file_extension": ".py",
   "mimetype": "text/x-python",
   "name": "python",
   "nbconvert_exporter": "python",
   "pygments_lexer": "ipython2",
   "version": "2.7.6"
  }
 },
 "nbformat": 4,
 "nbformat_minor": 0
}
