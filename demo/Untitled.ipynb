{
 "cells": [
  {
   "cell_type": "code",
   "execution_count": 26,
   "metadata": {
    "collapsed": false
   },
   "outputs": [],
   "source": [
    "from dolfin import *\n",
    "from mshr import *\n",
    "\n",
    "w = 0.01\n",
    "l = 1.\n",
    "tol = 10E-14\n",
    "\n",
    "def solve_problem(lambd, R, count):\n",
    "    mesh = generate_mesh(Circle(Point(0.,0.), R, 30) - Rectangle(Point(-l, -w), Point(l, w)), count)\n",
    "\n",
    "    class OuterBoundary(SubDomain):\n",
    "        def inside(self, x, on_boundary):\n",
    "            return on_boundary and (near(abs(x[0]), R) or near(abs(x[1]), R))\n",
    "\n",
    "    class InnerBoundary(SubDomain):\n",
    "        def inside(self, x, on_boundary):\n",
    "            return on_boundary and abs(x[0]) < l - tol and abs(x[1]) < w + tol\n",
    "\n",
    "    Gamma_N = InnerBoundary()\n",
    "\n",
    "    boundary_adaptor = EdgeFunction('bool', mesh)\n",
    "    Gamma_N.mark(boundary_adaptor, True)\n",
    "    for i in xrange(1):\n",
    "        mesh = adapt(mesh, boundary_adaptor)\n",
    "\n",
    "    boundary_parts = MeshFunction('size_t', mesh, mesh.topology().dim() - 1)\n",
    "    \n",
    "\n",
    "    Gamma_R = OuterBoundary()\n",
    "    Gamma_R.mark(boundary_parts, 0)\n",
    "\n",
    "    V = FunctionSpace(mesh, \"Lagrange\", 1)\n",
    "    u = TrialFunction(V)\n",
    "    v = TestFunction(V)\n",
    "\n",
    "    bcs = [#DirichletBC(V, Expression('-lambd * log(x[0]*x[0]+x[1]*x[1]) / 2.', lambd=lambd), OuterBoundary()),\n",
    "           DirichletBC(V, Constant(1.), InnerBoundary())]\n",
    "\n",
    "    a = inner(grad(u), grad(v)) * dx\n",
    "    #L = Constant(0.0) * v * ds\n",
    "    dS = ds(subdomain_data=boundary_parts)\n",
    "    L = Expression('lambd / sqrt(x[0]*x[0] + x[1]*x[1])', lambd=lambd) * v * dS(0)\n",
    "    \n",
    "    u = Function(V)\n",
    "\n",
    "    problem = LinearVariationalProblem(a, L, u, bcs)\n",
    "    solver = LinearVariationalSolver(problem)\n",
    "    solver.solve()\n",
    "    \n",
    "    return u, mesh"
   ]
  },
  {
   "cell_type": "code",
   "execution_count": 23,
   "metadata": {
    "collapsed": true
   },
   "outputs": [],
   "source": [
    "import matplotlib.pyplot as plt\n",
    "import matplotlib.tri as tri\n",
    "\n",
    "def contour_plot(u, mesh, levels_count):\n",
    "    triang = tri.Triangulation(*mesh.coordinates().reshape((-1, 2)).T,\n",
    "                               triangles=mesh.cells())\n",
    "    Z = u.compute_vertex_values(mesh)\n",
    "\n",
    "    plt.figure()\n",
    "    plt.tricontour(triang, Z, levels_count)\n",
    "    plt.colorbar()\n",
    "    plt.show()"
   ]
  },
  {
   "cell_type": "code",
   "execution_count": 27,
   "metadata": {
    "collapsed": false
   },
   "outputs": [],
   "source": [
    "def find_lambda(lambda_range, point, u_point, R, count, tol=10E-10):\n",
    "    l, r = lambda_range\n",
    "    lambd = (l + r) / 2\n",
    "    u_point_numerical = solve_problem(lambd, R, count)[0](*point)\n",
    "    while abs(u_point_numerical - u_point) > tol:\n",
    "        if u_point_numerical - u_point > 0:\n",
    "            r = lambd\n",
    "        else:\n",
    "            l = lambd\n",
    "        lambd = (l + r) / 2\n",
    "        print lambd\n",
    "        u_point_numerical = solve_problem(lambd, R, count)[0](*point)\n",
    "        print 'value:', u_point_numerical\n",
    "    return lambd"
   ]
  },
  {
   "cell_type": "code",
   "execution_count": 29,
   "metadata": {
    "collapsed": false
   },
   "outputs": [
    {
     "name": "stdout",
     "output_type": "stream",
     "text": [
      "-0.7125\n",
      "value: -0.0937141598964\n",
      "-0.59375\n",
      "value: 0.808256844929\n",
      "-0.653125\n",
      "value: 0.996598993432\n",
      "-0.6828125\n",
      "value: 0.973925052272\n",
      "-0.69765625\n",
      "value: -0.0709284482319\n",
      "-0.690234375\n",
      "value: 0.845399094419\n",
      "-0.6939453125\n",
      "value: 0.963596578569\n",
      "-0.69580078125\n",
      "value: 0.985291180662\n",
      "-0.696728515625\n",
      "value: 0.0333614172568\n",
      "-0.697192382812\n",
      "value: 1.0\n",
      "-0.697424316406\n",
      "value: 0.847712085212\n",
      "-0.697540283203\n",
      "value: -0.0604046900678\n",
      "-0.697482299805\n",
      "value: -0.0706614281733\n",
      "-0.697453308105\n",
      "value: 0.625895830061\n",
      "-0.697467803955\n",
      "value: -0.116856555001\n",
      "-0.69746055603\n",
      "value: -0.116844948885\n",
      "-0.697456932068\n",
      "value: 1.0\n",
      "-0.697458744049\n",
      "value: 1.0\n",
      "-0.69745965004\n",
      "value: 0.736182025867\n",
      "-0.697460103035\n",
      "value: 1.0\n",
      "-0.697460329533\n",
      "value: -0.0650990535728\n",
      "-0.697460216284\n",
      "value: 0.896070881885\n",
      "-0.697460272908\n",
      "value: 0.918060711639\n",
      "-0.69746030122\n",
      "value: 0.434402798071\n",
      "-0.697460315377\n",
      "value: 0.100820520027\n",
      "-0.697460322455\n",
      "value: -0.0706276921186\n",
      "-0.697460318916\n",
      "value: -0.06123863631\n",
      "-0.697460317146\n",
      "value: 1.0\n",
      "-0.697460318031\n",
      "value: 0.679095036165\n",
      "-0.697460318473\n",
      "value: 0.805077738169\n",
      "-0.697460318694\n",
      "value: 1.0\n",
      "-0.697460318805\n",
      "value: 0.9094537853\n",
      "-0.69746031886\n",
      "value: 0.202420498419\n",
      "-0.697460318888\n",
      "value: 0.950766230399\n",
      "-0.697460318902\n",
      "value: -0.0706276866648\n",
      "-0.697460318895\n"
     ]
    },
    {
     "ename": "KeyboardInterrupt",
     "evalue": "",
     "output_type": "error",
     "traceback": [
      "\u001b[1;31m---------------------------------------------------------------------------\u001b[0m",
      "\u001b[1;31mKeyboardInterrupt\u001b[0m                         Traceback (most recent call last)",
      "\u001b[1;32m<ipython-input-29-9d291f55aab6>\u001b[0m in \u001b[0;36m<module>\u001b[1;34m()\u001b[0m\n\u001b[0;32m      1\u001b[0m \u001b[0mlambda_range\u001b[0m \u001b[1;33m=\u001b[0m \u001b[1;33m(\u001b[0m\u001b[1;33m-\u001b[0m\u001b[1;36m0.95\u001b[0m\u001b[1;33m,\u001b[0m \u001b[1;36m0.\u001b[0m\u001b[1;33m)\u001b[0m\u001b[1;33m\u001b[0m\u001b[0m\n\u001b[1;32m----> 2\u001b[1;33m \u001b[0mlambd\u001b[0m \u001b[1;33m=\u001b[0m \u001b[0mfind_lambda\u001b[0m\u001b[1;33m(\u001b[0m\u001b[0mlambda_range\u001b[0m\u001b[1;33m,\u001b[0m \u001b[1;33m(\u001b[0m\u001b[1;36m10.\u001b[0m\u001b[1;33m,\u001b[0m \u001b[1;36m0.\u001b[0m\u001b[1;33m)\u001b[0m\u001b[1;33m,\u001b[0m \u001b[1;36m0.\u001b[0m\u001b[1;33m,\u001b[0m \u001b[1;36m30.\u001b[0m\u001b[1;33m,\u001b[0m \u001b[1;36m100\u001b[0m\u001b[1;33m,\u001b[0m \u001b[0mtol\u001b[0m \u001b[1;33m=\u001b[0m\u001b[1;36m10E-4\u001b[0m\u001b[1;33m)\u001b[0m\u001b[1;33m\u001b[0m\u001b[0m\n\u001b[0m\u001b[0;32m      3\u001b[0m \u001b[1;32mprint\u001b[0m \u001b[1;34m'lambda:'\u001b[0m\u001b[1;33m,\u001b[0m \u001b[0mlambd\u001b[0m\u001b[1;33m\u001b[0m\u001b[0m\n",
      "\u001b[1;32m<ipython-input-27-9f53c1a69df7>\u001b[0m in \u001b[0;36mfind_lambda\u001b[1;34m(lambda_range, point, u_point, R, count, tol)\u001b[0m\n\u001b[0;32m     10\u001b[0m         \u001b[0mlambd\u001b[0m \u001b[1;33m=\u001b[0m \u001b[1;33m(\u001b[0m\u001b[0ml\u001b[0m \u001b[1;33m+\u001b[0m \u001b[0mr\u001b[0m\u001b[1;33m)\u001b[0m \u001b[1;33m/\u001b[0m \u001b[1;36m2\u001b[0m\u001b[1;33m\u001b[0m\u001b[0m\n\u001b[0;32m     11\u001b[0m         \u001b[1;32mprint\u001b[0m \u001b[0mlambd\u001b[0m\u001b[1;33m\u001b[0m\u001b[0m\n\u001b[1;32m---> 12\u001b[1;33m         \u001b[0mu_point_numerical\u001b[0m \u001b[1;33m=\u001b[0m \u001b[0msolve_problem\u001b[0m\u001b[1;33m(\u001b[0m\u001b[0mlambd\u001b[0m\u001b[1;33m,\u001b[0m \u001b[0mR\u001b[0m\u001b[1;33m,\u001b[0m \u001b[0mcount\u001b[0m\u001b[1;33m)\u001b[0m\u001b[1;33m[\u001b[0m\u001b[1;36m0\u001b[0m\u001b[1;33m]\u001b[0m\u001b[1;33m(\u001b[0m\u001b[1;33m*\u001b[0m\u001b[0mpoint\u001b[0m\u001b[1;33m)\u001b[0m\u001b[1;33m\u001b[0m\u001b[0m\n\u001b[0m\u001b[0;32m     13\u001b[0m         \u001b[1;32mprint\u001b[0m \u001b[1;34m'value:'\u001b[0m\u001b[1;33m,\u001b[0m \u001b[0mu_point_numerical\u001b[0m\u001b[1;33m\u001b[0m\u001b[0m\n\u001b[0;32m     14\u001b[0m     \u001b[1;32mreturn\u001b[0m \u001b[0mlambd\u001b[0m\u001b[1;33m\u001b[0m\u001b[0m\n",
      "\u001b[1;32m<ipython-input-26-eaaa7dac3eaa>\u001b[0m in \u001b[0;36msolve_problem\u001b[1;34m(lambd, R, count)\u001b[0m\n\u001b[0;32m     19\u001b[0m     \u001b[0mGamma_N\u001b[0m \u001b[1;33m=\u001b[0m \u001b[0mInnerBoundary\u001b[0m\u001b[1;33m(\u001b[0m\u001b[1;33m)\u001b[0m\u001b[1;33m\u001b[0m\u001b[0m\n\u001b[0;32m     20\u001b[0m \u001b[1;33m\u001b[0m\u001b[0m\n\u001b[1;32m---> 21\u001b[1;33m     \u001b[0mboundary_adaptor\u001b[0m \u001b[1;33m=\u001b[0m \u001b[0mEdgeFunction\u001b[0m\u001b[1;33m(\u001b[0m\u001b[1;34m'bool'\u001b[0m\u001b[1;33m,\u001b[0m \u001b[0mmesh\u001b[0m\u001b[1;33m)\u001b[0m\u001b[1;33m\u001b[0m\u001b[0m\n\u001b[0m\u001b[0;32m     22\u001b[0m     \u001b[0mGamma_N\u001b[0m\u001b[1;33m.\u001b[0m\u001b[0mmark\u001b[0m\u001b[1;33m(\u001b[0m\u001b[0mboundary_adaptor\u001b[0m\u001b[1;33m,\u001b[0m \u001b[0mTrue\u001b[0m\u001b[1;33m)\u001b[0m\u001b[1;33m\u001b[0m\u001b[0m\n\u001b[0;32m     23\u001b[0m     \u001b[1;32mfor\u001b[0m \u001b[0mi\u001b[0m \u001b[1;32min\u001b[0m \u001b[0mxrange\u001b[0m\u001b[1;33m(\u001b[0m\u001b[1;36m1\u001b[0m\u001b[1;33m)\u001b[0m\u001b[1;33m:\u001b[0m\u001b[1;33m\u001b[0m\u001b[0m\n",
      "\u001b[1;32m/usr/lib/python2.7/dist-packages/dolfin/cpp/mesh.pyc\u001b[0m in \u001b[0;36mnew\u001b[1;34m(cls, tp, mesh, value)\u001b[0m\n\u001b[0;32m   7847\u001b[0m         \u001b[1;32melif\u001b[0m \u001b[0mtp\u001b[0m \u001b[1;33m==\u001b[0m \u001b[1;34m\"bool\"\u001b[0m\u001b[1;33m:\u001b[0m\u001b[1;33m\u001b[0m\u001b[0m\n\u001b[0;32m   7848\u001b[0m             \u001b[0mvalue\u001b[0m \u001b[1;33m=\u001b[0m \u001b[0mbool\u001b[0m\u001b[1;33m(\u001b[0m\u001b[0mvalue\u001b[0m\u001b[1;33m)\u001b[0m \u001b[1;32mif\u001b[0m \u001b[0misinstance\u001b[0m\u001b[1;33m(\u001b[0m\u001b[0mvalue\u001b[0m\u001b[1;33m,\u001b[0m \u001b[0mint\u001b[0m\u001b[1;33m)\u001b[0m \u001b[1;32melse\u001b[0m \u001b[0mvalue\u001b[0m\u001b[1;33m\u001b[0m\u001b[0m\n\u001b[1;32m-> 7849\u001b[1;33m             \u001b[1;32mreturn\u001b[0m \u001b[0meval\u001b[0m\u001b[1;33m(\u001b[0m\u001b[1;34m\"%sBool(mesh, value)\"\u001b[0m\u001b[1;33m%\u001b[0m\u001b[0mMeshType\u001b[0m\u001b[1;33m)\u001b[0m\u001b[1;33m\u001b[0m\u001b[0m\n\u001b[0m\u001b[0;32m   7850\u001b[0m         \u001b[1;32melse\u001b[0m\u001b[1;33m:\u001b[0m\u001b[1;33m\u001b[0m\u001b[0m\n\u001b[0;32m   7851\u001b[0m             \u001b[1;32mraise\u001b[0m \u001b[0mRuntimeError\u001b[0m\u001b[1;33m(\u001b[0m\u001b[1;34m\"Cannot create a %sFunction of type '%s'.\"\u001b[0m \u001b[1;33m%\u001b[0m \u001b[1;33m(\u001b[0m\u001b[0mMeshType\u001b[0m\u001b[1;33m,\u001b[0m \u001b[0mtp\u001b[0m\u001b[1;33m)\u001b[0m\u001b[1;33m)\u001b[0m\u001b[1;33m\u001b[0m\u001b[0m\n",
      "\u001b[1;32m/usr/lib/python2.7/dist-packages/dolfin/cpp/mesh.pyc\u001b[0m in \u001b[0;36m<module>\u001b[1;34m()\u001b[0m\n",
      "\u001b[1;32m/usr/lib/python2.7/dist-packages/dolfin/cpp/mesh.pyc\u001b[0m in \u001b[0;36m__init__\u001b[1;34m(self, *args)\u001b[0m\n\u001b[0;32m   7740\u001b[0m \u001b[1;33m\u001b[0m\u001b[0m\n\u001b[0;32m   7741\u001b[0m     \u001b[1;32mdef\u001b[0m \u001b[0m__init__\u001b[0m\u001b[1;33m(\u001b[0m\u001b[0mself\u001b[0m\u001b[1;33m,\u001b[0m \u001b[1;33m*\u001b[0m\u001b[0margs\u001b[0m\u001b[1;33m)\u001b[0m\u001b[1;33m:\u001b[0m\u001b[1;33m\u001b[0m\u001b[0m\n\u001b[1;32m-> 7742\u001b[1;33m         \u001b[0m_mesh\u001b[0m\u001b[1;33m.\u001b[0m\u001b[0mEdgeFunctionBool_swiginit\u001b[0m\u001b[1;33m(\u001b[0m\u001b[0mself\u001b[0m\u001b[1;33m,\u001b[0m\u001b[0m_mesh\u001b[0m\u001b[1;33m.\u001b[0m\u001b[0mnew_EdgeFunctionBool\u001b[0m\u001b[1;33m(\u001b[0m\u001b[1;33m*\u001b[0m\u001b[0margs\u001b[0m\u001b[1;33m)\u001b[0m\u001b[1;33m)\u001b[0m\u001b[1;33m\u001b[0m\u001b[0m\n\u001b[0m\u001b[0;32m   7743\u001b[0m     \u001b[0m__swig_destroy__\u001b[0m \u001b[1;33m=\u001b[0m \u001b[0m_mesh\u001b[0m\u001b[1;33m.\u001b[0m\u001b[0mdelete_EdgeFunctionBool\u001b[0m\u001b[1;33m\u001b[0m\u001b[0m\n\u001b[0;32m   7744\u001b[0m \u001b[0mEdgeFunctionBool_swigregister\u001b[0m \u001b[1;33m=\u001b[0m \u001b[0m_mesh\u001b[0m\u001b[1;33m.\u001b[0m\u001b[0mEdgeFunctionBool_swigregister\u001b[0m\u001b[1;33m\u001b[0m\u001b[0m\n",
      "\u001b[1;31mKeyboardInterrupt\u001b[0m: "
     ]
    }
   ],
   "source": [
    "lambda_range = (-0.95, 0.)\n",
    "lambd = find_lambda(lambda_range, (10., 0.), 0., 30., 100, tol =10E-4)\n",
    "print 'lambda:', lambd"
   ]
  },
  {
   "cell_type": "code",
   "execution_count": null,
   "metadata": {
    "collapsed": false
   },
   "outputs": [],
   "source": [
    "lambd = -0.2939453125\n",
    "u, mesh = solve_problem(lambd, 30., 100)"
   ]
  },
  {
   "cell_type": "code",
   "execution_count": null,
   "metadata": {
    "collapsed": false
   },
   "outputs": [],
   "source": [
    "plot(u, interactive=True)\n",
    "contour_plot(u, mesh, 30)"
   ]
  },
  {
   "cell_type": "code",
   "execution_count": null,
   "metadata": {
    "collapsed": false
   },
   "outputs": [],
   "source": [
    "import math\n",
    "\n",
    "class Exact_Solution(Expression):\n",
    "    def eval(self, value, x):\n",
    "        A = -1. / math.acosh(5. / l)\n",
    "        B = 1.\n",
    "        z = complex(x[0], x[1])\n",
    "        ln = abs( z / l + cmath.sqrt( (z / l) ** 2 - 1 ) )\n",
    "        value[0] = A * ln + B\n",
    "    def value_shape(self):\n",
    "        return (1,)"
   ]
  },
  {
   "cell_type": "code",
   "execution_count": null,
   "metadata": {
    "collapsed": false
   },
   "outputs": [],
   "source": [
    "plot(mesh, interactive=True)\n",
    "V = FunctionSpace(mesh, 'Lagrange', 3)\n",
    "exact = interpolate(Exact_Solution(element=FiniteElement(\"Quadrature\", triangle, 2)), V)"
   ]
  },
  {
   "cell_type": "code",
   "execution_count": 30,
   "metadata": {
    "collapsed": false
   },
   "outputs": [
    {
     "name": "stdout",
     "output_type": "stream",
     "text": [
      "0.717725787879 -4.1672560044e-09\n"
     ]
    }
   ],
   "source": [
    "from dolfin import *\n",
    "from mshr import *\n",
    "\n",
    "w = 0.005\n",
    "l = 1.\n",
    "tol = 10E-14\n",
    "R = 30.\n",
    "count = 100\n",
    "lambd = -0.2939453125\n",
    "\n",
    "mesh = generate_mesh(Circle(Point(0., 0.), R, 30) - Rectangle(Point(-l, -w), Point(l, w)), count)\n",
    "\n",
    "class OuterBoundary(SubDomain):\n",
    "    def inside(self, x, on_boundary):\n",
    "        return on_boundary and (near(abs(x[0]), R) or near(abs(x[1]), R))\n",
    "\n",
    "class InnerBoundary(SubDomain):\n",
    "    def inside(self, x, on_boundary):\n",
    "        return on_boundary and abs(x[0]) < l - tol and abs(x[1]) < w + tol\n",
    "\n",
    "Gamma_N = InnerBoundary()\n",
    "\n",
    "boundary_adaptor = EdgeFunction('bool', mesh)\n",
    "Gamma_N.mark(boundary_adaptor, True)\n",
    "for i in xrange(1):\n",
    "    mesh = adapt(mesh, boundary_adaptor)\n",
    "\n",
    "boundary_parts = MeshFunction('size_t', mesh, mesh.topology().dim() - 1)\n",
    "\n",
    "\n",
    "Gamma_R = OuterBoundary()\n",
    "Gamma_R.mark(boundary_parts, 0)\n",
    "\n",
    "V = FunctionSpace(mesh, \"Lagrange\", 1)\n",
    "u = TrialFunction(V)\n",
    "v = TestFunction(V)\n",
    "\n",
    "bcs = [DirichletBC(V, Constant(1.), InnerBoundary())]\n",
    "\n",
    "a = inner(grad(u), grad(v)) * dx\n",
    "#L = Constant(0.0) * v * ds\n",
    "dS = ds(subdomain_data=boundary_parts)\n",
    "L = Expression('lambd / sqrt(x[0]*x[0] + x[1]*x[1])', lambd=lambd) * v * dS(0)\n",
    "\n",
    "u = Function(V)\n",
    "\n",
    "problem = LinearVariationalProblem(a, L, u, bcs)\n",
    "solver = LinearVariationalSolver(problem)\n",
    "solver.solve()\n",
    "\n",
    "plot(mesh)\n",
    "\n",
    "\n",
    "\n",
    "import math\n",
    "import cmath\n",
    "\n",
    "class Exact_Solution(Expression):\n",
    "    def eval(self, value, x):\n",
    "        A = -1. / math.acosh(10. / l)\n",
    "        B = 1.\n",
    "        z = complex(x[0], x[1])\n",
    "        ln = math.log(abs( z / l + cmath.sqrt( (z / l) ** 2 - 1 ) ))\n",
    "        if x[0] < 0:\n",
    "            ln *= -1.\n",
    "        value[0] = A * ln + B\n",
    "    def value_shape(self):\n",
    "        return (1,)\n",
    "\n",
    "Ve = FunctionSpace(mesh, 'Lagrange', 3)\n",
    "exact = interpolate(Exact_Solution(element=FiniteElement(\"Quadrature\", triangle, 2)), Ve)\n",
    "\n",
    "plot(u - exact)\n",
    "\n",
    "print u(10., 0.), exact(10., 0.)\n",
    "\n",
    "interactive()"
   ]
  },
  {
   "cell_type": "code",
   "execution_count": 31,
   "metadata": {
    "collapsed": true
   },
   "outputs": [],
   "source": [
    "contour_plot(u, mesh, 50)"
   ]
  },
  {
   "cell_type": "code",
   "execution_count": 21,
   "metadata": {
    "collapsed": false
   },
   "outputs": [
    {
     "name": "stdout",
     "output_type": "stream",
     "text": [
      "-0.567241198284 1.05564139033e-10\n"
     ]
    }
   ],
   "source": [
    "from dolfin import *\n",
    "from mshr import *\n",
    "\n",
    "w = 0.005\n",
    "l = 1.\n",
    "tol = 10E-14\n",
    "R = 30.\n",
    "count = 100\n",
    "lambd = -0.2939453125\n",
    "\n",
    "mesh = generate_mesh(Circle(Point(0., 0.), R, 70) - Rectangle(Point(-R, -R), Point(0, R)) -\n",
    "                     Rectangle(Point(0, -R), Point(R, 0)) - Rectangle(Point(0., -w), Point(l, w)), count)\n",
    "\n",
    "class OuterBoundary(SubDomain):\n",
    "    def inside(self, x, on_boundary):\n",
    "        return on_boundary and x[0] > 0 and x[1] > 0\n",
    "\n",
    "class InnerBoundary(SubDomain):\n",
    "    def inside(self, x, on_boundary):\n",
    "        return on_boundary and abs(x[0]) < l - tol and abs(x[1]) < w + tol\n",
    "\n",
    "Gamma_N = InnerBoundary()\n",
    "\n",
    "boundary_adaptor = EdgeFunction('bool', mesh)\n",
    "Gamma_N.mark(boundary_adaptor, True)\n",
    "for i in xrange(1):\n",
    "    mesh = adapt(mesh, boundary_adaptor)\n",
    "\n",
    "boundary_parts = MeshFunction('size_t', mesh, mesh.topology().dim() - 1)\n",
    "\n",
    "\n",
    "Gamma_R = OuterBoundary()\n",
    "Gamma_R.mark(boundary_parts, 0)\n",
    "\n",
    "V = FunctionSpace(mesh, \"Lagrange\", 1)\n",
    "u = TrialFunction(V)\n",
    "v = TestFunction(V)\n",
    "\n",
    "bcs = [DirichletBC(V, Constant(1.), InnerBoundary())]\n",
    "\n",
    "a = inner(grad(u), grad(v)) * dx\n",
    "dS = ds(subdomain_data=boundary_parts)\n",
    "L = Expression('lambd / sqrt(x[0]*x[0] + x[1]*x[1])', lambd=lambd) * v * dS(0)\n",
    "\n",
    "u = Function(V)\n",
    "\n",
    "problem = LinearVariationalProblem(a, L, u, bcs)\n",
    "solver = LinearVariationalSolver(problem)\n",
    "solver.solve()\n",
    "\n",
    "plot(mesh)\n",
    "\n",
    "\n",
    "\n",
    "import math\n",
    "import cmath\n",
    "\n",
    "class Exact_Solution(Expression):\n",
    "    def eval(self, value, x):\n",
    "        A = -1. / math.acosh(10. / l)\n",
    "        B = 1.\n",
    "        z = complex(x[0], x[1])\n",
    "        ln = math.log(abs( z / l + cmath.sqrt( (z / l) ** 2 - 1 ) ))\n",
    "        if x[0] < 0:\n",
    "            ln *= -1.\n",
    "        value[0] = A * ln + B\n",
    "    def value_shape(self):\n",
    "        return (1,)\n",
    "\n",
    "Ve = FunctionSpace(mesh, 'Lagrange', 3)\n",
    "exact = interpolate(Exact_Solution(element=FiniteElement(\"Quadrature\", triangle, 2)), Ve)\n",
    "\n",
    "plot(u)\n",
    "plot(exact, mesh)\n",
    "plot(u - exact)\n",
    "\n",
    "print u(10., 0.), exact(10., 0.)\n",
    "\n",
    "interactive()"
   ]
  },
  {
   "cell_type": "code",
   "execution_count": 12,
   "metadata": {
    "collapsed": false
   },
   "outputs": [
    {
     "data": {
      "text/plain": [
       "\"\\n    Gamma_N = InnerBoundary()\\n\\n    boundary_adaptor = EdgeFunction('bool', mesh)\\n    Gamma_N.mark(boundary_adaptor, True)\\n    for i in xrange(1):\\n        mesh = adapt(mesh, boundary_adaptor)\\n\""
      ]
     },
     "execution_count": 12,
     "metadata": {},
     "output_type": "execute_result"
    }
   ],
   "source": [
    "from dolfin import *\n",
    "from mshr import *\n",
    "\n",
    "w = 0.005\n",
    "l = 1.\n",
    "tol = 10E-14\n",
    "R = 30.\n",
    "count = 100\n",
    "\n",
    "mesh = generate_mesh(Circle(Point(0., 0.), R, 70) - Rectangle(Point(-R, -R), Point(0, R)) -\n",
    "                         Rectangle(Point(0, -R), Point(R, 0)) - Rectangle(Point(0., -w), Point(l, w)), count)\n",
    "\n",
    "def solve_p(lambd):\n",
    "    global mesh\n",
    "    \n",
    "    class OuterBoundary(SubDomain):\n",
    "        def inside(self, x, on_boundary):\n",
    "            return on_boundary and x[0] > 0 and x[1] > 0\n",
    "\n",
    "    class InnerBoundary(SubDomain):\n",
    "        def inside(self, x, on_boundary):\n",
    "            return on_boundary and abs(x[0]) < l - tol and abs(x[1]) < w + tol\n",
    "\n",
    "\n",
    "    boundary_parts = MeshFunction('size_t', mesh, mesh.topology().dim() - 1)\n",
    "\n",
    "\n",
    "    Gamma_R = OuterBoundary()\n",
    "    Gamma_R.mark(boundary_parts, 0)\n",
    "\n",
    "    V = FunctionSpace(mesh, \"Lagrange\", 1)\n",
    "    u = TrialFunction(V)\n",
    "    v = TestFunction(V)\n",
    "\n",
    "    bcs = [DirichletBC(V, Constant(1.), InnerBoundary())]\n",
    "\n",
    "    a = inner(grad(u), grad(v)) * dx\n",
    "    dS = ds(subdomain_data=boundary_parts)\n",
    "    L = Expression('lambd / sqrt(x[0]*x[0] + x[1]*x[1])', lambd=lambd) * v * dS(0)\n",
    "\n",
    "    u = Function(V)\n",
    "\n",
    "    problem = LinearVariationalProblem(a, L, u, bcs)\n",
    "    solver = LinearVariationalSolver(problem)\n",
    "    solver.solve()\n",
    "\n",
    "    return u\n",
    "\n",
    "'''\n",
    "    Gamma_N = InnerBoundary()\n",
    "\n",
    "    boundary_adaptor = EdgeFunction('bool', mesh)\n",
    "    Gamma_N.mark(boundary_adaptor, True)\n",
    "    for i in xrange(1):\n",
    "        mesh = adapt(mesh, boundary_adaptor)\n",
    "'''"
   ]
  },
  {
   "cell_type": "code",
   "execution_count": 13,
   "metadata": {
    "collapsed": true
   },
   "outputs": [],
   "source": [
    "def find_lambda(lambda_range, point, u_point, tol=10E-10):\n",
    "    l, r = lambda_range\n",
    "    lambd = (l + r) / 2\n",
    "    u_point_numerical = solve_p(lambd)(*point)\n",
    "    while abs(u_point_numerical - u_point) > tol:\n",
    "        if u_point_numerical - u_point > 0:\n",
    "            r = lambd\n",
    "        else:\n",
    "            l = lambd\n",
    "        lambd = (l + r) / 2\n",
    "        print lambd\n",
    "        u_point_numerical = solve_p(lambd)(*point)\n",
    "        print 'value:', u_point_numerical\n",
    "    return lambd"
   ]
  },
  {
   "cell_type": "code",
   "execution_count": 18,
   "metadata": {
    "collapsed": false
   },
   "outputs": [
    {
     "name": "stdout",
     "output_type": "stream",
     "text": [
      "[0.33836817049601092, 0.43618175827581496, 0.43678801444971288, 0.43739427062361064, 0.43800052679750923, 0.43860678297140721, 0.27345652290395256, 0.27424197531162536, 0.44042555149310131, 0.44103180766700023, 0.44163806384089843, 0.44224432001479663, 0.44285057618869478, 0.44345683236259303, 0.44406308853649135, 0.28052559457300619, 0.44527560088428775, 0.28209649938835174, 0.44648811323208387, 0.44709436940598241, 0.44770062557988027, 0.28523830901904251, 0.44891313792767662, 0.44951939410157482, 0.28759466624205993, 0.45073190644937144, 0.28916557105740487, 0.45194441879716779, 0.29073647587275075, 0.4531569311449643, 0.45376318731886223, 0.45436944349276004, 0.45497569966665874, 0.45558195584055655, 0.29544919031878625, 0.45679446818835312, 0.29702009513413147, 0.45800698053614963, 0.29859099994947702, 0.45921949288394581, 0.45982574905784424, 0.4604320052317426, 0.46103826140564058, -0.16215478043754583, 0.30330371439551285, 0.46285702992733524, 0.30487461921085829, 0.46406954227513164, 0.30644552402620318, 0.46528205462292771]\n"
     ]
    }
   ],
   "source": [
    "import numpy as np\n",
    "lambda_range = (-0.19, -0.18)\n",
    "#lambd = find_lambda(lambda_range, (10., 0.), 0.)\n",
    "#print lambd\n",
    "print [solve_p(a)(10., 0.) for a in np.linspace(-0.19, -0.18, 50)]"
   ]
  }
 ],
 "metadata": {
  "kernelspec": {
   "display_name": "Python 2",
   "language": "python",
   "name": "python2"
  },
  "language_info": {
   "codemirror_mode": {
    "name": "ipython",
    "version": 2
   },
   "file_extension": ".py",
   "mimetype": "text/x-python",
   "name": "python",
   "nbconvert_exporter": "python",
   "pygments_lexer": "ipython2",
   "version": "2.7.6"
  }
 },
 "nbformat": 4,
 "nbformat_minor": 0
}
