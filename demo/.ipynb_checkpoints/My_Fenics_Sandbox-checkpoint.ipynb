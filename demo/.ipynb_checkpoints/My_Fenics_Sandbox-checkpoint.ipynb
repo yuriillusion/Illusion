{
 "cells": [
  {
   "cell_type": "markdown",
   "metadata": {
    "collapsed": true
   },
   "source": [
    "# Задача для заряженной пластины"
   ]
  },
  {
   "cell_type": "code",
   "execution_count": 2,
   "metadata": {
    "collapsed": false
   },
   "outputs": [],
   "source": [
    "from dolfin import *\n",
    "from mshr import *\n",
    "\n",
    "nx, ny = 30, 30\n",
    "plx, prx = 0.2, 0.8\n",
    "u0, u1 = 0.0, 0.05\n",
    "\n",
    "#mesh = generate_mesh(Rectangle(Point(0, 0), Point(1, 1)), 50)\n",
    "mesh = UnitSquareMesh(nx, ny)\n",
    "\n",
    "#-------------refinement-start\n",
    "\n",
    "p, q = Point(0.2, 1.), Point(0.8, 1.)\n",
    "tol = 0.1\n",
    "tol2= 0.5\n",
    "\n",
    "# Selecting edges to refine\n",
    "class Border(SubDomain):\n",
    "    def inside(self, x, on_boundary):\n",
    "        return (near(x[0], p.x(), tol) and near(x[1], p.y(), tol) or\n",
    "    near(x[0], q.x(), tol) and near(x[1], q.y(), tol)) and near(x[1], 1.0, tol2)\n",
    "\n",
    "Border = Border()\n",
    "\n",
    "# Number of refinements\n",
    "nor = 3\n",
    "\n",
    "for i in range(nor):\n",
    "    edge_markers = EdgeFunction(\"bool\", mesh)\n",
    "    Border.mark(edge_markers, True)\n",
    "\n",
    "    adapt(mesh, edge_markers)\n",
    "    mesh = mesh.child()\n",
    "\n",
    "#---------------refinement-end\n",
    "\n",
    "def plate_boundary(x, on_boundary):\n",
    "    return (plx < x[0] < prx) and near(x[1], 1.0)\n",
    "\n",
    "def empty_boundary(x, on_boundary):\n",
    "    return on_boundary and not plate_boundary(x, on_boundary)\n",
    "\n",
    "V = FunctionSpace(mesh, \"Lagrange\", 1)\n",
    "u = TrialFunction(V)\n",
    "v = TestFunction(V)\n",
    "\n",
    "bcs = [DirichletBC(V, Constant(u1), plate_boundary),\n",
    "       DirichletBC(V, Constant(u0), empty_boundary)]\n",
    "\n",
    "a = inner(grad(u), grad(v)) * dx\n",
    "L = Constant(0.0) * v * dx\n",
    "\n",
    "u = Function(V)\n",
    "\n",
    "problem = LinearVariationalProblem(a, L, u, bcs)\n",
    "solver = LinearVariationalSolver(problem)\n",
    "solver.solve()\n",
    "\n",
    "plot(u)\n",
    "\n",
    "#E = -project(grad(u), VectorFunctionSpace(mesh, \"Lagrange\", 1))\n",
    "\n",
    "#plot(E)\n",
    "\n",
    "plot(mesh)\n",
    "\n",
    "interactive()"
   ]
  },
  {
   "cell_type": "code",
   "execution_count": 2,
   "metadata": {
    "collapsed": true
   },
   "outputs": [],
   "source": [
    "import matplotlib.pyplot as plt\n",
    "import matplotlib.tri as tri\n",
    "\n",
    "triang = tri.Triangulation(*mesh.coordinates().reshape((-1, 2)).T,\n",
    "                           triangles=mesh.cells())\n",
    "Z = u.compute_vertex_values(mesh)\n",
    "\n",
    "plt.figure()\n",
    "plt.tricontour(triang, Z, )\n",
    "plt.colorbar()\n",
    "plt.show()"
   ]
  },
  {
   "cell_type": "code",
   "execution_count": null,
   "metadata": {
    "collapsed": false
   },
   "outputs": [],
   "source": [
    "u_e = Function(V)\n",
    "\n",
    "summand = Expression('4/m*v*sin(m*(l+r)/2)*sin(m*(r-l)/2)*sin(m*x[0])*sinh(m*x[1])/sinh(m*b)', b=1.0, m=pi, l=plx, r=prx, v=u1)\n",
    "\n",
    "Ve = FunctionSpace(mesh, 'Lagrange', 1)\n",
    "\n",
    "for i in xrange(200):\n",
    "    summand.m = pi * (i + 1)\n",
    "    u_e.vector()[:] += interpolate(summand, Ve).vector()\n",
    "plot(u_e - u)\n",
    "plot(u_e)\n",
    "interactive()\n",
    "print errornorm(u_e, u, norm_type='l2')"
   ]
  },
  {
   "cell_type": "markdown",
   "metadata": {},
   "source": [
    "Вычисление невязки для разных шагов сетки и оценка скорости сходимости численного метода"
   ]
  },
  {
   "cell_type": "code",
   "execution_count": 37,
   "metadata": {
    "collapsed": false
   },
   "outputs": [],
   "source": [
    "from dolfin import *\n",
    "from math import log as ln\n",
    "\n",
    "plx, prx = 0.2, 0.8\n",
    "u0, u1 = 0.0, 0.05\n",
    "\n",
    "def plate_boundary(x, on_boundary):\n",
    "    return (plx < x[0] < prx) and near(x[1], 1.0)\n",
    "\n",
    "def empty_boundary(x, on_boundary):\n",
    "    return on_boundary and not plate_boundary(x, on_boundary)\n",
    "\n",
    "def get_error(n):\n",
    "    nx, ny = n, n\n",
    "    \n",
    "    mesh = UnitSquareMesh(nx, ny)\n",
    "    \n",
    "    #-------------refinement-start\n",
    "\n",
    "    p, q = Point(0.2, 1.), Point(0.8, 1.)\n",
    "    tol = 0.1\n",
    "    tol2= 0.5\n",
    "\n",
    "    # Selecting edges to refine\n",
    "    class Border(SubDomain):\n",
    "        def inside(self, x, on_boundary):\n",
    "            return (near(x[0], p.x(), tol) and near(x[1], p.y(), tol) or\n",
    "        near(x[0], q.x(), tol) and near(x[1], q.y(), tol)) and near(x[1], 1.0, tol2)\n",
    "\n",
    "    Border = Border()\n",
    "\n",
    "    # Number of refinements\n",
    "    nor = 2\n",
    "\n",
    "    for i in range(nor):\n",
    "        edge_markers = EdgeFunction(\"bool\", mesh)\n",
    "        Border.mark(edge_markers, True)\n",
    "\n",
    "        adapt(mesh, edge_markers)\n",
    "        mesh = mesh.child()\n",
    "\n",
    "    #---------------refinement-end\n",
    "\n",
    "    V = FunctionSpace(mesh, \"Lagrange\", 1)\n",
    "    u = TrialFunction(V)\n",
    "    v = TestFunction(V)\n",
    "\n",
    "    bcs = [DirichletBC(V, Constant(u0), empty_boundary),\n",
    "           DirichletBC(V, Constant(u1), plate_boundary)]\n",
    "\n",
    "    a = inner(grad(u), grad(v)) * dx\n",
    "    L = Constant(0.0) * v * dx\n",
    "\n",
    "    u = Function(V)\n",
    "\n",
    "    problem = LinearVariationalProblem(a, L, u, bcs)\n",
    "    solver = LinearVariationalSolver(problem)\n",
    "    solver.solve()\n",
    "\n",
    "    W = FunctionSpace(mesh, 'Lagrange', 3)\n",
    "    u_e = Function(W)\n",
    "\n",
    "    summand = Expression('4/m*v*sin(m*(l+r)/2)*sin(m*(r-l)/2)*sin(m*x[0])*sinh(m*x[1])/sinh(m*b)', b=1.0, m=pi, l=plx, r=prx, v=u1)\n",
    "\n",
    "    for i in xrange(200):\n",
    "        summand.m = pi * (i + 1)\n",
    "        u_e.vector()[:] += interpolate(summand, W).vector()\n",
    "    \n",
    "    return errornorm(u_e, u, norm_type='l2')"
   ]
  },
  {
   "cell_type": "code",
   "execution_count": 39,
   "metadata": {
    "collapsed": false
   },
   "outputs": [
    {
     "name": "stdout",
     "output_type": "stream",
     "text": [
      "[3.3798048050843383, 0.45724445209553616, 1.7910120217319054, 0.08311396785511428]\n"
     ]
    }
   ],
   "source": [
    "N = [4, 8, 16, 32, 64]#, 128]#, 256]\n",
    "h = [1. / n for n in N]\n",
    "e = [get_error(n) for n in N]\n",
    "r = [ln(e[i + 1] / e[i]) / ln(h[i + 1] / h[i])  for i in xrange(len(e) - 1)]\n",
    "print r"
   ]
  },
  {
   "cell_type": "code",
   "execution_count": 7,
   "metadata": {
    "collapsed": false
   },
   "outputs": [
    {
     "name": "stdout",
     "output_type": "stream",
     "text": [
      "n=  4 e=0.00187144 r=4.577105\n",
      "n=  8 e=0.00007840 r=-0.116347\n",
      "n= 16 e=0.00008499 r=1.067510\n"
     ]
    }
   ],
   "source": [
    "print '\\n'.join(['n={:>3} e={:.8f} r={:f}'.format(N[i], e[i], r[i]) for i in xrange(len(r))])"
   ]
  },
  {
   "cell_type": "code",
   "execution_count": null,
   "metadata": {
    "collapsed": false
   },
   "outputs": [],
   "source": [
    "N = [8, 16, 32, 64]\n",
    "h = [1. / n for n in N]\n",
    "e = [get_error(n) for n in N]\n",
    "r = [ln(e[i + 1] / e[i]) / ln(h[i + 1] / h[i])  for i in xrange(len(e) - 1)]\n",
    "print r"
   ]
  },
  {
   "cell_type": "markdown",
   "metadata": {},
   "source": [
    "# Задача с другими граничными условиями"
   ]
  },
  {
   "cell_type": "code",
   "execution_count": null,
   "metadata": {
    "collapsed": true
   },
   "outputs": [],
   "source": [
    "from dolfin import *\n",
    "\n",
    "nx, ny = 300, 300\n",
    "u0, u1 = 0.0, 1.0\n",
    "\n",
    "mesh = UnitSquareMesh(nx, ny)\n",
    "\n",
    "class Plate(SubDomain):\n",
    "    def inside(self, x, on_boundary):\n",
    "        return near(x[0], 0.0)\n",
    "    \n",
    "class Boundary(SubDomain):\n",
    "    def inside(self, x, on_boundary):\n",
    "        return near(x[0], 1.0) or near(x[1], 0.0) or near(x[1], 1.0)\n",
    "\n",
    "# Initialize sub-domain instances\n",
    "plate = Plate()\n",
    "boudary = Boundary()\n",
    "\n",
    "\n",
    "# Initialize mesh function for boundary domains\n",
    "boundaries = FacetFunction(\"size_t\", mesh)\n",
    "boundaries.set_all(0)\n",
    "plate.mark(boundaries, 1)\n",
    "boudary.mark(boundaries, 2)\n",
    "\n",
    "# Define function space and basis functions\n",
    "V = FunctionSpace(mesh, \"Lagrange\", 1)\n",
    "u = TrialFunction(V)\n",
    "v = TestFunction(V)\n",
    "\n",
    "# Define Dirichlet boundary conditions\n",
    "bcs = [DirichletBC(V, Constant(u0), boundaries, 2),\n",
    "       DirichletBC(V, Constant(u1), boundaries, 1)]\n",
    "\n",
    "a = inner(grad(u), grad(v)) * dx\n",
    "L = Constant(0.0) * v * dx\n",
    "\n",
    "u = Function(V)\n",
    "\n",
    "problem = LinearVariationalProblem(a, L, u, bcs)\n",
    "solver = LinearVariationalSolver(problem)\n",
    "solver.solve()\n",
    "\n",
    "plot(u)\n",
    "\n",
    "E = -project(grad(u), VectorFunctionSpace(mesh, \"Lagrange\", 1))\n",
    "\n",
    "plot(E)\n",
    "\n",
    "interactive()"
   ]
  },
  {
   "cell_type": "markdown",
   "metadata": {},
   "source": [
    "# Эксперименты с сетками"
   ]
  },
  {
   "cell_type": "code",
   "execution_count": null,
   "metadata": {
    "collapsed": false
   },
   "outputs": [],
   "source": [
    "import numpy\n",
    "import dolfin as df\n",
    "\n",
    "def create_mesh(length, height, nx, ny, show=False):\n",
    "    \"\"\"\n",
    "    Make a square mesh manually\n",
    "\n",
    "    Should give exactly the same results as using the built in dolfin.RectangleMesh() class\n",
    "    \"\"\"\n",
    "    # The number of mesh entities\n",
    "    nvert = nx*ny\n",
    "    ncell = 2*(nx-1)*(ny-1)\n",
    "\n",
    "    # Positions of the vertices\n",
    "    xpos = numpy.linspace(0, length, nx)\n",
    "    ypos = numpy.linspace(0, height, ny)\n",
    "\n",
    "    # Create the mesh and open for editing\n",
    "    mesh = df.Mesh()\n",
    "    editor = df.MeshEditor()\n",
    "    editor.open(mesh, 2, 2)\n",
    "\n",
    "    # Add the vertices (nodes)\n",
    "    editor.init_vertices(nvert)\n",
    "    i_vert = 0\n",
    "    for x in xpos:\n",
    "        for y in ypos:\n",
    "            editor.add_vertex(i_vert, x, y)\n",
    "            i_vert += 1\n",
    "\n",
    "    # Add the cells (triangular elements)\n",
    "    # Loop over the vertices and build two cells for each square\n",
    "    # where the selected vertex is in the lower left corner\n",
    "    editor.init_cells(ncell)\n",
    "    i_cell = 0\n",
    "    for ix in xrange(nx-1):\n",
    "        for iy in xrange(ny-1):\n",
    "            # Upper left triangle in this square\n",
    "            i_vert0 = ix*ny + iy\n",
    "            i_vert1 = ix*ny + iy+1\n",
    "            i_vert2 = (ix+1)*ny + iy + 1\n",
    "            editor.add_cell(i_cell, i_vert0, i_vert1, i_vert2)\n",
    "            i_cell += 1\n",
    "\n",
    "            # Lower right triangle in this square\n",
    "            i_vert0 = ix*ny + iy\n",
    "            i_vert1 = (ix+1)*ny + iy+1\n",
    "            i_vert2 = (ix+1)*ny + iy\n",
    "            editor.add_cell(i_cell, i_vert0, i_vert1, i_vert2)\n",
    "            i_cell += 1\n",
    "\n",
    "    # Close the mesh for editing\n",
    "    editor.close()\n",
    "    print 'Created mesh with %d vertices and %d cells' % (nvert, ncell)\n",
    "\n",
    "    if show:\n",
    "        df.plot(mesh)\n",
    "        df.interactive()\n",
    "\n",
    "    return mesh\n",
    "\n",
    "mesh = create_mesh(5, 3, 10, 10)\n",
    "\n",
    "df.plot(mesh)\n",
    "df.interactive()"
   ]
  },
  {
   "cell_type": "code",
   "execution_count": 1,
   "metadata": {
    "collapsed": false
   },
   "outputs": [
    {
     "data": {
      "text/plain": [
       "<dolfin.cpp.io.VTKPlotter; proxy of <Swig Object of type 'std::shared_ptr< dolfin::VTKPlotter > *' at 0xa70bf638> >"
      ]
     },
     "execution_count": 1,
     "metadata": {},
     "output_type": "execute_result"
    }
   ],
   "source": [
    "from dolfin import *\n",
    "\n",
    "mesh = UnitSquareMesh(20, 20)\n",
    "\n",
    "# Break point\n",
    "p, q = Point(0.2, 1.), Point(0.8, 1.)\n",
    "tol = 0.05\n",
    "\n",
    "# Selecting edges to refine\n",
    "class Border(SubDomain):\n",
    "    def inside(self, x, on_boundary):\n",
    "        return (near(x[0], p.x(), tol) and near(x[1], p.y(), tol) or\n",
    "    near(x[0], q.x(), tol) and near(x[1], q.y(), tol)) and on_boundary\n",
    "\n",
    "Border = Border()\n",
    "\n",
    "# Number of refinements\n",
    "nor = 5\n",
    "\n",
    "for i in range(nor):\n",
    "    edge_markers = EdgeFunction(\"bool\", mesh)\n",
    "    Border.mark(edge_markers, True)\n",
    "\n",
    "    adapt(mesh, edge_markers)\n",
    "    mesh = mesh.child()\n",
    "\n",
    "plot(mesh, interactive=True)\n"
   ]
  },
  {
   "cell_type": "code",
   "execution_count": 11,
   "metadata": {
    "collapsed": false
   },
   "outputs": [
    {
     "data": {
      "text/plain": [
       "<dolfin.cpp.io.VTKPlotter; proxy of <Swig Object of type 'std::shared_ptr< dolfin::VTKPlotter > *' at 0x99886788> >"
      ]
     },
     "execution_count": 11,
     "metadata": {},
     "output_type": "execute_result"
    }
   ],
   "source": [
    "from dolfin import *\n",
    "\n",
    "mesh = UnitCubeMesh(5, 2, 3)\n",
    "\n",
    "plot(mesh, interactive=True)"
   ]
  },
  {
   "cell_type": "code",
   "execution_count": 13,
   "metadata": {
    "collapsed": false
   },
   "outputs": [],
   "source": [
    "from dolfin import *\n",
    "from mshr import *\n",
    "\n",
    "mesh = generate_mesh(Rectangle(Point(0, 0), Point(1, 1)), 5)\n",
    "\n",
    "plot(mesh)\n",
    "\n",
    "interactive()"
   ]
  },
  {
   "cell_type": "code",
   "execution_count": 13,
   "metadata": {
    "collapsed": false
   },
   "outputs": [],
   "source": [
    "import numpy\n",
    "from mshr import *\n",
    "\n",
    "Theta = 2 * pi\n",
    "a, b = 3., 5.0\n",
    "nr = 10  # divisions in r direction\n",
    "nt = 20  # divisions in theta direction\n",
    "mesh = UnitSquareMesh(10, 10, 'crossed')\n",
    "#mesh = generate_mesh(Rectangle(Point(0, 0), Point(1, 1)), 10)\n",
    "#mesh = RectangleMesh(nr, nt, digonal='crossed')\n",
    "\n",
    "# First make a denser mesh towards r=a\n",
    "x = mesh.coordinates()[:,0]\n",
    "y = mesh.coordinates()[:,1]\n",
    "s = 1\n",
    "\n",
    "def denser(x, y):\n",
    "    return [a + (b-a)*((x-a)/(b-a))**s, y]\n",
    "\n",
    "x_bar, y_bar = denser(x, y)\n",
    "xy_bar_coor = numpy.array([x_bar, y_bar]).transpose()\n",
    "mesh.coordinates()[:] = xy_bar_coor\n",
    "plot(mesh, title='stretched mesh')\n",
    "\n",
    "def cylinder(r, s):\n",
    "    return [r*numpy.cos(Theta*s), r*numpy.sin(Theta*s)]\n",
    "\n",
    "x_hat, y_hat = cylinder(x, y)\n",
    "xy_hat_coor = numpy.array([x_hat, y_hat]).transpose()\n",
    "mesh.coordinates()[:] = xy_hat_coor\n",
    "plot(mesh, title='hollow cylinder')\n",
    "interactive()"
   ]
  },
  {
   "cell_type": "markdown",
   "metadata": {},
   "source": [
    "# Задача с непрерывными граничными условиями"
   ]
  },
  {
   "cell_type": "code",
   "execution_count": 12,
   "metadata": {
    "collapsed": false
   },
   "outputs": [
    {
     "name": "stdout",
     "output_type": "stream",
     "text": [
      "Error norm: 0.000468485579284\n"
     ]
    }
   ],
   "source": [
    "from dolfin import *\n",
    "\n",
    "nx, ny = 15, 15\n",
    "\n",
    "mesh = UnitSquareMesh(nx, ny)\n",
    "\n",
    "def left_boundary(x, on_boundary):\n",
    "    return near(x[0], 0.)\n",
    "\n",
    "def right_boundary(x, on_boundary):\n",
    "    return near(x[0], 1.)\n",
    "\n",
    "def bottom_boundary(x, on_boundary):\n",
    "    return near(x[1], 0.)\n",
    "\n",
    "def top_boundary(x, on_boundary):\n",
    "    return near(x[1], 1.)\n",
    "\n",
    "\n",
    "V = FunctionSpace(mesh, \"Lagrange\", 1)\n",
    "u = TrialFunction(V)\n",
    "v = TestFunction(V)\n",
    "\n",
    "bcs = [DirichletBC(V, Expression('1-x[1]*x[1]'), left_boundary),\n",
    "       DirichletBC(V, Expression('2-x[1]*x[1]'), right_boundary),\n",
    "       DirichletBC(V, Expression('1+x[0]*x[0]'), bottom_boundary),\n",
    "       DirichletBC(V, Expression('x[0]*x[0]'), top_boundary)]\n",
    "\n",
    "a = inner(grad(u), grad(v)) * dx\n",
    "L = Constant(0.0) * v * dx\n",
    "\n",
    "u = Function(V)\n",
    "\n",
    "problem = LinearVariationalProblem(a, L, u, bcs)\n",
    "solver = LinearVariationalSolver(problem)\n",
    "solver.solve()\n",
    "\n",
    "plot(u)\n",
    "\n",
    "E = -project(grad(u), VectorFunctionSpace(mesh, \"Lagrange\", 1))\n",
    "\n",
    "plot(E)\n",
    "\n",
    "u_e = Expression('1+x[0]*x[0]-x[1]*x[1]')\n",
    "\n",
    "#plot(u - u_e)\n",
    "\n",
    "Ve = FunctionSpace(mesh, 'Lagrange', 5)\n",
    "print 'Error norm:', errornorm(u_e, u, norm_type='l2')\n",
    "\n",
    "interactive()"
   ]
  },
  {
   "cell_type": "code",
   "execution_count": 1,
   "metadata": {
    "collapsed": false
   },
   "outputs": [],
   "source": [
    "from dolfin import *\n",
    "from mshr import *\n",
    "\n",
    "r, R = 0.1, 3.\n",
    "count = 30\n",
    "\n",
    "mesh = generate_mesh(Circle(Point(0., 0.), R, 30) - Circle(Point(0., 0.), r, 20), count)\n",
    "\n",
    "plot(mesh)\n",
    "\n",
    "#'''\n",
    "def outer_boundary(x, on_boundary):\n",
    "    return on_boundary and (x[0]*x[0] + x[1]*x[1] > r + 0.1)\n",
    "\n",
    "def inner_boundary(x, on_boundary):\n",
    "    return on_boundary and (x[0]*x[0] + x[1]*x[1] < r + 0.1)\n",
    "#'''\n",
    "\n",
    "V = FunctionSpace(mesh, \"Lagrange\", 1)\n",
    "u = TrialFunction(V)\n",
    "v = TestFunction(V)\n",
    "\n",
    "#'''\n",
    "bcs = [DirichletBC(V, Constant(1.), outer_boundary),\n",
    "       DirichletBC(V, Constant(10.), inner_boundary)]\n",
    "#'''\n",
    "\n",
    "#bcs = DirichletBC(V, Expression('1/sqrt(x[0]*x[0]+x[1]*x[1])'), lambda x, on_boundary: on_boundary)\n",
    "\n",
    "a = inner(grad(u), grad(v)) * dx\n",
    "L = Constant(0.0) * v * dx\n",
    "\n",
    "u = Function(V)\n",
    "\n",
    "problem = LinearVariationalProblem(a, L, u, bcs)\n",
    "solver = LinearVariationalSolver(problem)\n",
    "solver.solve()\n",
    "\n",
    "plot(u)\n",
    "\n",
    "E = -project(grad(u), VectorFunctionSpace(mesh, \"Lagrange\", 1))\n",
    "\n",
    "plot(E)\n",
    "\n",
    "interactive()"
   ]
  },
  {
   "cell_type": "code",
   "execution_count": 17,
   "metadata": {
    "collapsed": false
   },
   "outputs": [],
   "source": [
    "import scitools.easyviz as ev\n",
    "import scitools.BoxField\n",
    "\n",
    "u_box = scitools.BoxField.dolfin_function2BoxField(u, mesh, (20, 88))\n",
    "ev.contour(u_box.grid.coorv[0], u_box.grid.coorv[1], u_box.values, 5)\n",
    "ev.savefig('hey.eps')"
   ]
  },
  {
   "cell_type": "code",
   "execution_count": 14,
   "metadata": {
    "collapsed": true
   },
   "outputs": [],
   "source": [
    "from dolfin import *\n",
    "from math import log as ln\n",
    "\n",
    "def plate_boundary(x, on_boundary):\n",
    "    return (plx < x[0] < prx) and near(x[1], 1.0)\n",
    "\n",
    "def empty_boundary(x, on_boundary):\n",
    "    return on_boundary and not plate_boundary(x, on_boundary)\n",
    "\n",
    "def get_error(n):\n",
    "    nx, ny = n, n\n",
    "    \n",
    "    mesh = UnitSquareMesh(nx, ny)\n",
    "    \n",
    "    V = FunctionSpace(mesh, \"Lagrange\", 1)\n",
    "    u = TrialFunction(V)\n",
    "    v = TestFunction(V)\n",
    "\n",
    "    bcs = [DirichletBC(V, Expression('1-x[1]*x[1]'), left_boundary),\n",
    "           DirichletBC(V, Expression('2-x[1]*x[1]'), right_boundary),\n",
    "           DirichletBC(V, Expression('1+x[0]*x[0]'), bottom_boundary),\n",
    "           DirichletBC(V, Expression('x[0]*x[0]'), top_boundary)]\n",
    "\n",
    "    a = inner(grad(u), grad(v)) * dx\n",
    "    L = Constant(0.0) * v * dx\n",
    "\n",
    "    u = Function(V)\n",
    "\n",
    "    problem = LinearVariationalProblem(a, L, u, bcs)\n",
    "    solver = LinearVariationalSolver(problem)\n",
    "    solver.solve()\n",
    "\n",
    "    u_e = Expression('1+x[0]*x[0]-x[1]*x[1]')\n",
    "    \n",
    "    return errornorm(u_e, u, norm_type='l2')"
   ]
  },
  {
   "cell_type": "code",
   "execution_count": 15,
   "metadata": {
    "collapsed": false
   },
   "outputs": [
    {
     "name": "stdout",
     "output_type": "stream",
     "text": [
      "[1.999999999999993, 1.9999999999999825, 1.9999999999999727, 1.9999999999999434, 1.9999999999998712, 1.9999999999997309]\n"
     ]
    }
   ],
   "source": [
    "N = [4, 8, 16, 32, 64, 128, 256]\n",
    "h = [1. / n for n in N]\n",
    "e = [get_error(n) for n in N]\n",
    "r = [ln(e[i + 1] / e[i]) / ln(h[i + 1] / h[i])  for i in xrange(len(e) - 1)]\n",
    "print r"
   ]
  },
  {
   "cell_type": "code",
   "execution_count": 22,
   "metadata": {
    "collapsed": false
   },
   "outputs": [
    {
     "name": "stdout",
     "output_type": "stream",
     "text": [
      "n=  4 e=0.00658808 r=1.999999999999993\n",
      "n=  8 e=0.00164702 r=1.999999999999982\n",
      "n= 16 e=0.00041175 r=1.999999999999973\n",
      "n= 32 e=0.00010294 r=1.999999999999943\n",
      "n= 64 e=0.00002573 r=1.999999999999871\n",
      "n=128 e=0.00000643 r=1.999999999999731\n",
      "n=256 e=0.00000161\n"
     ]
    }
   ],
   "source": [
    "print '\\n'.join(['n={:>3} e={:.8f} r={:.15f}'.format(N[i], e[i], r[i]) for i in xrange(len(r))])\n",
    "print 'n={:>3} e={:.8f}'.format(N[-1], e[-1])"
   ]
  }
 ],
 "metadata": {
  "kernelspec": {
   "display_name": "Python 2",
   "language": "python",
   "name": "python2"
  },
  "language_info": {
   "codemirror_mode": {
    "name": "ipython",
    "version": 2
   },
   "file_extension": ".py",
   "mimetype": "text/x-python",
   "name": "python",
   "nbconvert_exporter": "python",
   "pygments_lexer": "ipython2",
   "version": "2.7.6"
  }
 },
 "nbformat": 4,
 "nbformat_minor": 0
}
