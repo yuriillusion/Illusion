{
 "cells": [
  {
   "cell_type": "code",
   "execution_count": 1,
   "metadata": {
    "collapsed": false
   },
   "outputs": [],
   "source": [
    "from dolfin import *\n",
    "from mshr import *\n",
    "\n",
    "w = 0.01\n",
    "l = 3.\n",
    "tol = 10E-14\n",
    "\n",
    "def solve_problem(lambd, R, count):\n",
    "    mesh = generate_mesh(Rectangle(Point(-R, -R), Point(R, R)) - Rectangle(Point(-l, -w), Point(l, w)), count)\n",
    "\n",
    "    class OuterBoundary(SubDomain):\n",
    "        def inside(self, x, on_boundary):\n",
    "            return on_boundary and (near(abs(x[0]), R) or near(abs(x[1]), R))\n",
    "\n",
    "    class InnerBoundary(SubDomain):\n",
    "        def inside(self, x, on_boundary):\n",
    "            return on_boundary and abs(x[0]) < l - tol and abs(x[1]) < w + tol\n",
    "\n",
    "    Gamma_N = InnerBoundary()\n",
    "\n",
    "    boundary_adaptor = EdgeFunction('bool', mesh)\n",
    "    Gamma_N.mark(boundary_adaptor, True)\n",
    "    for i in xrange(1):\n",
    "        mesh = adapt(mesh, boundary_adaptor)\n",
    "\n",
    "    boundary_parts = MeshFunction('size_t', mesh, mesh.topology().dim() - 1)\n",
    "    \n",
    "\n",
    "    Gamma_N.mark(boundary_parts, 0)\n",
    "\n",
    "    V = FunctionSpace(mesh, \"Lagrange\", 1)\n",
    "    u = TrialFunction(V)\n",
    "    v = TestFunction(V)\n",
    "\n",
    "    bcs = [DirichletBC(V, Expression('-lambd * log(x[0]*x[0]+x[1]*x[1]) / 2.', lambd=lambd), OuterBoundary()),\n",
    "           DirichletBC(V, Constant(1.), InnerBoundary())]\n",
    "\n",
    "    a = inner(grad(u), grad(v)) * dx\n",
    "    L = Constant(0.0) * v * ds\n",
    "\n",
    "    u = Function(V)\n",
    "\n",
    "    problem = LinearVariationalProblem(a, L, u, bcs)\n",
    "    solver = LinearVariationalSolver(problem)\n",
    "    solver.solve()\n",
    "    \n",
    "    return u, mesh"
   ]
  },
  {
   "cell_type": "code",
   "execution_count": 3,
   "metadata": {
    "collapsed": true
   },
   "outputs": [],
   "source": [
    "import matplotlib.pyplot as plt\n",
    "import matplotlib.tri as tri\n",
    "\n",
    "def contour_plot(u, mesh, levels_count):\n",
    "    triang = tri.Triangulation(*mesh.coordinates().reshape((-1, 2)).T,\n",
    "                               triangles=mesh.cells())\n",
    "    Z = u.compute_vertex_values(mesh)\n",
    "\n",
    "    plt.figure()\n",
    "    plt.tricontour(triang, Z, levels_count)\n",
    "    plt.colorbar()\n",
    "    plt.show()"
   ]
  },
  {
   "cell_type": "code",
   "execution_count": null,
   "metadata": {
    "collapsed": false
   },
   "outputs": [],
   "source": [
    "def find_lambda(lambda_range, point, u_point, R, count, tol=10E-10):\n",
    "    l, r = lambda_range\n",
    "    lambd = (l + r) / 2\n",
    "    u_point_numerical = solve_problem(lambd, R, count)[0](*point)\n",
    "    while abs(u_point_numerical - u_point) > tol:\n",
    "        if u_point_numerical - u_point > 0:\n",
    "            l = lambd\n",
    "        else:\n",
    "            r = lambd\n",
    "        lambd = (l + r) / 2\n",
    "        u_point_numerical = solve_problem(lambd, R, count)[0](*point)\n",
    "    return lambd"
   ]
  },
  {
   "cell_type": "code",
   "execution_count": null,
   "metadata": {
    "collapsed": false
   },
   "outputs": [],
   "source": [
    "lambda_range = (-1., 1)\n",
    "lambd = find_lambda(lambda_range, (5., 0.), 0., 20., 70)\n",
    "print 'lambda:', lambd"
   ]
  },
  {
   "cell_type": "code",
   "execution_count": 2,
   "metadata": {
    "collapsed": false
   },
   "outputs": [
    {
     "name": "stdout",
     "output_type": "stream",
     "text": [
      "f_25\n"
     ]
    }
   ],
   "source": [
    "lambd = 0.445099783828\n",
    "u, mesh = solve_problem(lambd, 20., 70)\n",
    "print u"
   ]
  },
  {
   "cell_type": "code",
   "execution_count": null,
   "metadata": {
    "collapsed": false
   },
   "outputs": [],
   "source": [
    "plot(u, interactive=True)\n",
    "contour_plot(u, mesh, 30)"
   ]
  },
  {
   "cell_type": "code",
   "execution_count": 7,
   "metadata": {
    "collapsed": false
   },
   "outputs": [],
   "source": [
    "import math\n",
    "\n",
    "class Exact_Solution(Expression):\n",
    "    def eval(self, value, x):\n",
    "        A = -1. / math.acosh(5. / l)\n",
    "        B = 1.\n",
    "        z = complex(x[0], x[1])\n",
    "        ln = abs( z / l + cmath.sqrt( (z / l) ** 2 - 1 ) )\n",
    "        value[0] = A * ln + B\n",
    "    def value_shape(self):\n",
    "        return (1,)"
   ]
  },
  {
   "cell_type": "code",
   "execution_count": null,
   "metadata": {
    "collapsed": false
   },
   "outputs": [],
   "source": [
    "plot(mesh, interactive=True)\n",
    "V = FunctionSpace(mesh, 'Lagrange', 1)"
   ]
  }
 ],
 "metadata": {
  "kernelspec": {
   "display_name": "Python 2",
   "language": "python",
   "name": "python2"
  },
  "language_info": {
   "codemirror_mode": {
    "name": "ipython",
    "version": 2
   },
   "file_extension": ".py",
   "mimetype": "text/x-python",
   "name": "python",
   "nbconvert_exporter": "python",
   "pygments_lexer": "ipython2",
   "version": "2.7.6"
  }
 },
 "nbformat": 4,
 "nbformat_minor": 0
}
